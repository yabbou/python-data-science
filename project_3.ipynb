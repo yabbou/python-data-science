{
  "nbformat": 4,
  "nbformat_minor": 0,
  "metadata": {
    "colab": {
      "name": "project 3.ipynb",
      "provenance": [],
      "collapsed_sections": [
        "UmWj8PuX8_8e"
      ],
      "authorship_tag": "ABX9TyNFmNe4CSSmNqZX4mqN90VZ",
      "include_colab_link": true
    },
    "kernelspec": {
      "name": "python3",
      "display_name": "Python 3"
    },
    "language_info": {
      "name": "python"
    }
  },
  "cells": [
    {
      "cell_type": "markdown",
      "metadata": {
        "id": "view-in-github",
        "colab_type": "text"
      },
      "source": [
        "<a href=\"https://colab.research.google.com/github/yabbou/python-data-science/blob/main/project_3.ipynb\" target=\"_parent\"><img src=\"https://colab.research.google.com/assets/colab-badge.svg\" alt=\"Open In Colab\"/></a>"
      ]
    },
    {
      "cell_type": "markdown",
      "metadata": {
        "id": "ZSeparvxkN1V"
      },
      "source": [
        "**Dimensionality Reduction & Feature Selection Project**\n",
        "=="
      ]
    },
    {
      "cell_type": "markdown",
      "metadata": {
        "id": "KTMZURft8ZjR"
      },
      "source": [
        "Introduction\n",
        "==\n",
        "\n",
        "Research Question:\n",
        "To what extent can the independent variables predict the **average miles/gallon (MPG)** for a city car?\n",
        "\n",
        "Variables: The original data set includes 10 categorical variables and 16 numerical variables. There are 25 variables for independent variables. The `city-mpg` variable will serve as the dependent variable for our regression model."
      ]
    },
    {
      "cell_type": "markdown",
      "metadata": {
        "id": "93_kIfKvKcxO"
      },
      "source": [
        "Part 2: EDA\n",
        "=="
      ]
    },
    {
      "cell_type": "markdown",
      "metadata": {
        "id": "ZynJ9cpLQgg5"
      },
      "source": [
        "Detailed here: https://archive.ics.uci.edu/ml/datasets\n",
        "\n",
        "1. **symboling**: the degree which is more risky than its price indicates. It ranges from -3 (safer) to 3 (more risky). \n",
        "2. **normalized-losses**: as compared to other cars. It is the relative, average loss payment per insured vehicle year. This value is normalized for all autos within a particular size classification (two-door small, station wagons, sports/specialty, etc.), and represents the average loss per car per year. In this case, the range of normalized_losses is from 65 to 256.\n",
        "\n",
        "3. **make**: The makers of the brand. In this dataset-- alfa-romero, audi, bmw, chevrolet, dodge, honda, isuzu, jaguar, mazda, mercedes-benz, mercury, mitsubishi, nissan, peugot, plymouth, porsche, renault, saab, subaru, toyota, volkswagen, volvo\n",
        "\n",
        "4. **fuel-type**: diesel, gas.\n",
        "\n",
        "5. **aspiration**: std, turbo.\n",
        "6. **num-of-doors**: four, two.\n",
        "7. **body-style**: hardtop, wagon, sedan, hatchback, convertible.\n",
        "8. **drive-wheels**: 4wd, fwd, rwd.\n",
        "9. **engine-location**: front, rear.\n",
        "10. **wheel-base**:the distance between the centers of the front and rear wheels (continuous from 86.6 120.9).\n",
        "\n",
        "11. **length**: continuous from 141.1 to 208.1.\n",
        "12. **width**: continuous from 60.3 to 72.3.\n",
        "13. **height**: continuous from 47.8 to 59.8.\n",
        "14. **curb-weight**: the weight of an automobile without occupants or baggage (continuous from 1488 to 4066).\n",
        "15. **engine-type**: dohc, dohcv, l, ohc, ohcf, ohcv, rotor.\n",
        "16. **num-of-cylinders**: eight, five, four, six, three, twelve, two.\n",
        "17. **engine-size**: continuous from 61 to 326.\n",
        "18. **fuel-system**: 1bbl, 2bbl, 4bbl, idi, mfi, mpfi, spdi, spfi.\n",
        "19. **bore**: size of cylinder for each car (continuous from 2.54 to 3.94).\n",
        "20. **stroke**: the distance travelled by the piston in each cycle, continuous from 2.07 to 4.17.\n",
        "21. **compression-ratio**: the ratio of the maximum to minimum volume in the cylinder of an internal combustion engine (continuous from 7 to 23).\n",
        "22. **horsepower**: engine's power of each car (continuous from 48 to 288).\n",
        "23. **peak-rpm**: the maximum revolutions per minute (continuous from 4150 to 6600).\n",
        "24. **city-mpg**: continuous from 13 to 49. **THE TARGET VARIABLE**\n",
        "25. **highway-mpg**: continuous from 16 to 54.\n",
        "26. **price**: continuous from 5118 to 45400."
      ]
    },
    {
      "cell_type": "code",
      "metadata": {
        "id": "P6ti5YAwc00I",
        "colab": {
          "base_uri": "https://localhost:8080/",
          "height": 270
        },
        "outputId": "c49a216c-2ead-4467-b4e2-5bfb41d905b8"
      },
      "source": [
        "import pandas as pd\n",
        "import numpy as np\n",
        "\n",
        "import matplotlib.pyplot as plt\n",
        "import missingno as msno\n",
        "import seaborn as sns\n",
        "\n",
        "import warnings\n",
        "warnings.filterwarnings(\"ignore\")\n",
        "\n",
        "cars_df = pd.read_csv(\"https://raw.githubusercontent.com/MatthewFried/Udemy/master/Day3/Day3%20Data.csv\")\n",
        "cars_df.head()"
      ],
      "execution_count": 18,
      "outputs": [
        {
          "output_type": "execute_result",
          "data": {
            "text/html": [
              "<div>\n",
              "<style scoped>\n",
              "    .dataframe tbody tr th:only-of-type {\n",
              "        vertical-align: middle;\n",
              "    }\n",
              "\n",
              "    .dataframe tbody tr th {\n",
              "        vertical-align: top;\n",
              "    }\n",
              "\n",
              "    .dataframe thead th {\n",
              "        text-align: right;\n",
              "    }\n",
              "</style>\n",
              "<table border=\"1\" class=\"dataframe\">\n",
              "  <thead>\n",
              "    <tr style=\"text-align: right;\">\n",
              "      <th></th>\n",
              "      <th>3</th>\n",
              "      <th>?</th>\n",
              "      <th>alfa-romero</th>\n",
              "      <th>gas</th>\n",
              "      <th>std</th>\n",
              "      <th>two</th>\n",
              "      <th>convertible</th>\n",
              "      <th>rwd</th>\n",
              "      <th>front</th>\n",
              "      <th>88.6</th>\n",
              "      <th>168.8</th>\n",
              "      <th>64.1</th>\n",
              "      <th>48.8</th>\n",
              "      <th>2548</th>\n",
              "      <th>dohc</th>\n",
              "      <th>four</th>\n",
              "      <th>130</th>\n",
              "      <th>mpfi</th>\n",
              "      <th>3.47</th>\n",
              "      <th>2.68</th>\n",
              "      <th>9</th>\n",
              "      <th>111</th>\n",
              "      <th>5000</th>\n",
              "      <th>21</th>\n",
              "      <th>27</th>\n",
              "      <th>13495</th>\n",
              "    </tr>\n",
              "  </thead>\n",
              "  <tbody>\n",
              "    <tr>\n",
              "      <th>0</th>\n",
              "      <td>3</td>\n",
              "      <td>?</td>\n",
              "      <td>alfa-romero</td>\n",
              "      <td>gas</td>\n",
              "      <td>std</td>\n",
              "      <td>two</td>\n",
              "      <td>convertible</td>\n",
              "      <td>rwd</td>\n",
              "      <td>front</td>\n",
              "      <td>88.6</td>\n",
              "      <td>168.8</td>\n",
              "      <td>64.1</td>\n",
              "      <td>48.8</td>\n",
              "      <td>2548</td>\n",
              "      <td>dohc</td>\n",
              "      <td>four</td>\n",
              "      <td>130</td>\n",
              "      <td>mpfi</td>\n",
              "      <td>3.47</td>\n",
              "      <td>2.68</td>\n",
              "      <td>9.0</td>\n",
              "      <td>111</td>\n",
              "      <td>5000</td>\n",
              "      <td>21</td>\n",
              "      <td>27</td>\n",
              "      <td>16500</td>\n",
              "    </tr>\n",
              "    <tr>\n",
              "      <th>1</th>\n",
              "      <td>1</td>\n",
              "      <td>?</td>\n",
              "      <td>alfa-romero</td>\n",
              "      <td>gas</td>\n",
              "      <td>std</td>\n",
              "      <td>two</td>\n",
              "      <td>hatchback</td>\n",
              "      <td>rwd</td>\n",
              "      <td>front</td>\n",
              "      <td>94.5</td>\n",
              "      <td>171.2</td>\n",
              "      <td>65.5</td>\n",
              "      <td>52.4</td>\n",
              "      <td>2823</td>\n",
              "      <td>ohcv</td>\n",
              "      <td>six</td>\n",
              "      <td>152</td>\n",
              "      <td>mpfi</td>\n",
              "      <td>2.68</td>\n",
              "      <td>3.47</td>\n",
              "      <td>9.0</td>\n",
              "      <td>154</td>\n",
              "      <td>5000</td>\n",
              "      <td>19</td>\n",
              "      <td>26</td>\n",
              "      <td>16500</td>\n",
              "    </tr>\n",
              "    <tr>\n",
              "      <th>2</th>\n",
              "      <td>2</td>\n",
              "      <td>164</td>\n",
              "      <td>audi</td>\n",
              "      <td>gas</td>\n",
              "      <td>std</td>\n",
              "      <td>four</td>\n",
              "      <td>sedan</td>\n",
              "      <td>fwd</td>\n",
              "      <td>front</td>\n",
              "      <td>99.8</td>\n",
              "      <td>176.6</td>\n",
              "      <td>66.2</td>\n",
              "      <td>54.3</td>\n",
              "      <td>2337</td>\n",
              "      <td>ohc</td>\n",
              "      <td>four</td>\n",
              "      <td>109</td>\n",
              "      <td>mpfi</td>\n",
              "      <td>3.19</td>\n",
              "      <td>3.4</td>\n",
              "      <td>10.0</td>\n",
              "      <td>102</td>\n",
              "      <td>5500</td>\n",
              "      <td>24</td>\n",
              "      <td>30</td>\n",
              "      <td>13950</td>\n",
              "    </tr>\n",
              "    <tr>\n",
              "      <th>3</th>\n",
              "      <td>2</td>\n",
              "      <td>164</td>\n",
              "      <td>audi</td>\n",
              "      <td>gas</td>\n",
              "      <td>std</td>\n",
              "      <td>four</td>\n",
              "      <td>sedan</td>\n",
              "      <td>4wd</td>\n",
              "      <td>front</td>\n",
              "      <td>99.4</td>\n",
              "      <td>176.6</td>\n",
              "      <td>66.4</td>\n",
              "      <td>54.3</td>\n",
              "      <td>2824</td>\n",
              "      <td>ohc</td>\n",
              "      <td>five</td>\n",
              "      <td>136</td>\n",
              "      <td>mpfi</td>\n",
              "      <td>3.19</td>\n",
              "      <td>3.4</td>\n",
              "      <td>8.0</td>\n",
              "      <td>115</td>\n",
              "      <td>5500</td>\n",
              "      <td>18</td>\n",
              "      <td>22</td>\n",
              "      <td>17450</td>\n",
              "    </tr>\n",
              "    <tr>\n",
              "      <th>4</th>\n",
              "      <td>2</td>\n",
              "      <td>?</td>\n",
              "      <td>audi</td>\n",
              "      <td>gas</td>\n",
              "      <td>std</td>\n",
              "      <td>two</td>\n",
              "      <td>sedan</td>\n",
              "      <td>fwd</td>\n",
              "      <td>front</td>\n",
              "      <td>99.8</td>\n",
              "      <td>177.3</td>\n",
              "      <td>66.3</td>\n",
              "      <td>53.1</td>\n",
              "      <td>2507</td>\n",
              "      <td>ohc</td>\n",
              "      <td>five</td>\n",
              "      <td>136</td>\n",
              "      <td>mpfi</td>\n",
              "      <td>3.19</td>\n",
              "      <td>3.4</td>\n",
              "      <td>8.5</td>\n",
              "      <td>110</td>\n",
              "      <td>5500</td>\n",
              "      <td>19</td>\n",
              "      <td>25</td>\n",
              "      <td>15250</td>\n",
              "    </tr>\n",
              "  </tbody>\n",
              "</table>\n",
              "</div>"
            ],
            "text/plain": [
              "   3    ?  alfa-romero  gas  std   two  ...     9  111  5000  21  27  13495\n",
              "0  3    ?  alfa-romero  gas  std   two  ...   9.0  111  5000  21  27  16500\n",
              "1  1    ?  alfa-romero  gas  std   two  ...   9.0  154  5000  19  26  16500\n",
              "2  2  164         audi  gas  std  four  ...  10.0  102  5500  24  30  13950\n",
              "3  2  164         audi  gas  std  four  ...   8.0  115  5500  18  22  17450\n",
              "4  2    ?         audi  gas  std   two  ...   8.5  110  5500  19  25  15250\n",
              "\n",
              "[5 rows x 26 columns]"
            ]
          },
          "metadata": {
            "tags": []
          },
          "execution_count": 18
        }
      ]
    },
    {
      "cell_type": "markdown",
      "metadata": {
        "id": "xYe6nq8zIUGw"
      },
      "source": [
        "Our data appears to have been gathered by less-than-professional data records. One column is unknown, others column names are numbers, others are shortened forms of likely common technical car terms. "
      ]
    },
    {
      "cell_type": "markdown",
      "metadata": {
        "id": "GOWxHgE15Xcx"
      },
      "source": [
        "Let's first clarify the column names, based on the website data."
      ]
    },
    {
      "cell_type": "code",
      "metadata": {
        "colab": {
          "base_uri": "https://localhost:8080/",
          "height": 270
        },
        "id": "j_Ix21xcSa0a",
        "outputId": "8af81b18-b26c-4464-a672-a81764e12888"
      },
      "source": [
        "cars_df = pd.read_csv(\"https://raw.githubusercontent.com/MatthewFried/Udemy/master/Day3/Day3%20Data.csv\", names=['Symboling', 'Normalized_Losses', 'Make', 'Fuel_Type','Aspiration','Num_Doors','Body_Style', 'Drive_Wheels','Engine_Location','Wheel_Base', 'Length','Width','Height','Curb_Weight','Engine_Type','Num_Cylinders','Engine_Size','Fuel_System','Bore','Stroke','Compression_Ratio', 'Horsepower','Peak_RPM','City_MPG','Highway_MPG','Price'])\n",
        "cars_df.head()"
      ],
      "execution_count": 19,
      "outputs": [
        {
          "output_type": "execute_result",
          "data": {
            "text/html": [
              "<div>\n",
              "<style scoped>\n",
              "    .dataframe tbody tr th:only-of-type {\n",
              "        vertical-align: middle;\n",
              "    }\n",
              "\n",
              "    .dataframe tbody tr th {\n",
              "        vertical-align: top;\n",
              "    }\n",
              "\n",
              "    .dataframe thead th {\n",
              "        text-align: right;\n",
              "    }\n",
              "</style>\n",
              "<table border=\"1\" class=\"dataframe\">\n",
              "  <thead>\n",
              "    <tr style=\"text-align: right;\">\n",
              "      <th></th>\n",
              "      <th>Symboling</th>\n",
              "      <th>Normalized_Losses</th>\n",
              "      <th>Make</th>\n",
              "      <th>Fuel_Type</th>\n",
              "      <th>Aspiration</th>\n",
              "      <th>Num_Doors</th>\n",
              "      <th>Body_Style</th>\n",
              "      <th>Drive_Wheels</th>\n",
              "      <th>Engine_Location</th>\n",
              "      <th>Wheel_Base</th>\n",
              "      <th>Length</th>\n",
              "      <th>Width</th>\n",
              "      <th>Height</th>\n",
              "      <th>Curb_Weight</th>\n",
              "      <th>Engine_Type</th>\n",
              "      <th>Num_Cylinders</th>\n",
              "      <th>Engine_Size</th>\n",
              "      <th>Fuel_System</th>\n",
              "      <th>Bore</th>\n",
              "      <th>Stroke</th>\n",
              "      <th>Compression_Ratio</th>\n",
              "      <th>Horsepower</th>\n",
              "      <th>Peak_RPM</th>\n",
              "      <th>City_MPG</th>\n",
              "      <th>Highway_MPG</th>\n",
              "      <th>Price</th>\n",
              "    </tr>\n",
              "  </thead>\n",
              "  <tbody>\n",
              "    <tr>\n",
              "      <th>0</th>\n",
              "      <td>3</td>\n",
              "      <td>?</td>\n",
              "      <td>alfa-romero</td>\n",
              "      <td>gas</td>\n",
              "      <td>std</td>\n",
              "      <td>two</td>\n",
              "      <td>convertible</td>\n",
              "      <td>rwd</td>\n",
              "      <td>front</td>\n",
              "      <td>88.6</td>\n",
              "      <td>168.8</td>\n",
              "      <td>64.1</td>\n",
              "      <td>48.8</td>\n",
              "      <td>2548</td>\n",
              "      <td>dohc</td>\n",
              "      <td>four</td>\n",
              "      <td>130</td>\n",
              "      <td>mpfi</td>\n",
              "      <td>3.47</td>\n",
              "      <td>2.68</td>\n",
              "      <td>9.0</td>\n",
              "      <td>111</td>\n",
              "      <td>5000</td>\n",
              "      <td>21</td>\n",
              "      <td>27</td>\n",
              "      <td>13495</td>\n",
              "    </tr>\n",
              "    <tr>\n",
              "      <th>1</th>\n",
              "      <td>3</td>\n",
              "      <td>?</td>\n",
              "      <td>alfa-romero</td>\n",
              "      <td>gas</td>\n",
              "      <td>std</td>\n",
              "      <td>two</td>\n",
              "      <td>convertible</td>\n",
              "      <td>rwd</td>\n",
              "      <td>front</td>\n",
              "      <td>88.6</td>\n",
              "      <td>168.8</td>\n",
              "      <td>64.1</td>\n",
              "      <td>48.8</td>\n",
              "      <td>2548</td>\n",
              "      <td>dohc</td>\n",
              "      <td>four</td>\n",
              "      <td>130</td>\n",
              "      <td>mpfi</td>\n",
              "      <td>3.47</td>\n",
              "      <td>2.68</td>\n",
              "      <td>9.0</td>\n",
              "      <td>111</td>\n",
              "      <td>5000</td>\n",
              "      <td>21</td>\n",
              "      <td>27</td>\n",
              "      <td>16500</td>\n",
              "    </tr>\n",
              "    <tr>\n",
              "      <th>2</th>\n",
              "      <td>1</td>\n",
              "      <td>?</td>\n",
              "      <td>alfa-romero</td>\n",
              "      <td>gas</td>\n",
              "      <td>std</td>\n",
              "      <td>two</td>\n",
              "      <td>hatchback</td>\n",
              "      <td>rwd</td>\n",
              "      <td>front</td>\n",
              "      <td>94.5</td>\n",
              "      <td>171.2</td>\n",
              "      <td>65.5</td>\n",
              "      <td>52.4</td>\n",
              "      <td>2823</td>\n",
              "      <td>ohcv</td>\n",
              "      <td>six</td>\n",
              "      <td>152</td>\n",
              "      <td>mpfi</td>\n",
              "      <td>2.68</td>\n",
              "      <td>3.47</td>\n",
              "      <td>9.0</td>\n",
              "      <td>154</td>\n",
              "      <td>5000</td>\n",
              "      <td>19</td>\n",
              "      <td>26</td>\n",
              "      <td>16500</td>\n",
              "    </tr>\n",
              "    <tr>\n",
              "      <th>3</th>\n",
              "      <td>2</td>\n",
              "      <td>164</td>\n",
              "      <td>audi</td>\n",
              "      <td>gas</td>\n",
              "      <td>std</td>\n",
              "      <td>four</td>\n",
              "      <td>sedan</td>\n",
              "      <td>fwd</td>\n",
              "      <td>front</td>\n",
              "      <td>99.8</td>\n",
              "      <td>176.6</td>\n",
              "      <td>66.2</td>\n",
              "      <td>54.3</td>\n",
              "      <td>2337</td>\n",
              "      <td>ohc</td>\n",
              "      <td>four</td>\n",
              "      <td>109</td>\n",
              "      <td>mpfi</td>\n",
              "      <td>3.19</td>\n",
              "      <td>3.4</td>\n",
              "      <td>10.0</td>\n",
              "      <td>102</td>\n",
              "      <td>5500</td>\n",
              "      <td>24</td>\n",
              "      <td>30</td>\n",
              "      <td>13950</td>\n",
              "    </tr>\n",
              "    <tr>\n",
              "      <th>4</th>\n",
              "      <td>2</td>\n",
              "      <td>164</td>\n",
              "      <td>audi</td>\n",
              "      <td>gas</td>\n",
              "      <td>std</td>\n",
              "      <td>four</td>\n",
              "      <td>sedan</td>\n",
              "      <td>4wd</td>\n",
              "      <td>front</td>\n",
              "      <td>99.4</td>\n",
              "      <td>176.6</td>\n",
              "      <td>66.4</td>\n",
              "      <td>54.3</td>\n",
              "      <td>2824</td>\n",
              "      <td>ohc</td>\n",
              "      <td>five</td>\n",
              "      <td>136</td>\n",
              "      <td>mpfi</td>\n",
              "      <td>3.19</td>\n",
              "      <td>3.4</td>\n",
              "      <td>8.0</td>\n",
              "      <td>115</td>\n",
              "      <td>5500</td>\n",
              "      <td>18</td>\n",
              "      <td>22</td>\n",
              "      <td>17450</td>\n",
              "    </tr>\n",
              "  </tbody>\n",
              "</table>\n",
              "</div>"
            ],
            "text/plain": [
              "   Symboling Normalized_Losses         Make  ... City_MPG Highway_MPG  Price\n",
              "0          3                 ?  alfa-romero  ...       21          27  13495\n",
              "1          3                 ?  alfa-romero  ...       21          27  16500\n",
              "2          1                 ?  alfa-romero  ...       19          26  16500\n",
              "3          2               164         audi  ...       24          30  13950\n",
              "4          2               164         audi  ...       18          22  17450\n",
              "\n",
              "[5 rows x 26 columns]"
            ]
          },
          "metadata": {
            "tags": []
          },
          "execution_count": 19
        }
      ]
    },
    {
      "cell_type": "markdown",
      "metadata": {
        "id": "RSdvoWTnVkhV"
      },
      "source": [
        "Though, _understanding_ the column names still requires expert domain knoweldge, which still must be obtained."
      ]
    },
    {
      "cell_type": "markdown",
      "metadata": {
        "id": "7n1ynYoBLBJR"
      },
      "source": [
        "In the meantime, what are the unique values in our data? Any out of the ordinary?"
      ]
    },
    {
      "cell_type": "code",
      "metadata": {
        "colab": {
          "base_uri": "https://localhost:8080/"
        },
        "id": "hRr5x8EkITdP",
        "outputId": "6cad1894-00cf-449a-f226-65e2d14e3c78"
      },
      "source": [
        "def displayUnique():\n",
        "  COLS = cars_df.columns\n",
        "  for x in range(COLS.shape[0]):\n",
        "    print(COLS[x])\n",
        "    print(np.unique(cars_df.iloc[:,x].sort_values(ascending=False)),'\\n')\n",
        "displayUnique()"
      ],
      "execution_count": 20,
      "outputs": [
        {
          "output_type": "stream",
          "text": [
            "Symboling\n",
            "[-2 -1  0  1  2  3] \n",
            "\n",
            "Normalized_Losses\n",
            "['101' '102' '103' '104' '106' '107' '108' '110' '113' '115' '118' '119'\n",
            " '121' '122' '125' '128' '129' '134' '137' '142' '145' '148' '150' '153'\n",
            " '154' '158' '161' '164' '168' '186' '188' '192' '194' '197' '231' '256'\n",
            " '65' '74' '77' '78' '81' '83' '85' '87' '89' '90' '91' '93' '94' '95'\n",
            " '98' '?'] \n",
            "\n",
            "Make\n",
            "['alfa-romero' 'audi' 'bmw' 'chevrolet' 'dodge' 'honda' 'isuzu' 'jaguar'\n",
            " 'mazda' 'mercedes-benz' 'mercury' 'mitsubishi' 'nissan' 'peugot'\n",
            " 'plymouth' 'porsche' 'renault' 'saab' 'subaru' 'toyota' 'volkswagen'\n",
            " 'volvo'] \n",
            "\n",
            "Fuel_Type\n",
            "['diesel' 'gas'] \n",
            "\n",
            "Aspiration\n",
            "['std' 'turbo'] \n",
            "\n",
            "Num_Doors\n",
            "['?' 'four' 'two'] \n",
            "\n",
            "Body_Style\n",
            "['convertible' 'hardtop' 'hatchback' 'sedan' 'wagon'] \n",
            "\n",
            "Drive_Wheels\n",
            "['4wd' 'fwd' 'rwd'] \n",
            "\n",
            "Engine_Location\n",
            "['front' 'rear'] \n",
            "\n",
            "Wheel_Base\n",
            "[ 86.6  88.4  88.6  89.5  91.3  93.   93.1  93.3  93.7  94.3  94.5  95.1\n",
            "  95.3  95.7  95.9  96.   96.1  96.3  96.5  96.6  96.9  97.   97.2  97.3\n",
            "  98.4  98.8  99.1  99.2  99.4  99.5  99.8 100.4 101.2 102.  102.4 102.7\n",
            " 102.9 103.3 103.5 104.3 104.5 104.9 105.8 106.7 107.9 108.  109.1 110.\n",
            " 112.  113.  114.2 115.6 120.9] \n",
            "\n",
            "Length\n",
            "[141.1 144.6 150.  155.9 156.9 157.1 157.3 157.9 158.7 158.8 159.1 159.3\n",
            " 162.4 163.4 165.3 165.6 165.7 166.3 166.8 167.3 167.5 168.7 168.8 168.9\n",
            " 169.  169.1 169.7 170.2 170.7 171.2 171.7 172.  172.4 172.6 173.  173.2\n",
            " 173.4 173.5 173.6 174.6 175.  175.4 175.6 175.7 176.2 176.6 176.8 177.3\n",
            " 177.8 178.2 178.4 178.5 180.2 180.3 181.5 181.7 183.1 183.5 184.6 186.6\n",
            " 186.7 187.5 187.8 188.8 189.  190.9 191.7 192.7 193.8 197.  198.9 199.2\n",
            " 199.6 202.6 208.1] \n",
            "\n",
            "Width\n",
            "[60.3 61.8 62.5 63.4 63.6 63.8 63.9 64.  64.1 64.2 64.4 64.6 64.8 65.\n",
            " 65.2 65.4 65.5 65.6 65.7 66.  66.1 66.2 66.3 66.4 66.5 66.6 66.9 67.2\n",
            " 67.7 67.9 68.  68.3 68.4 68.8 68.9 69.6 70.3 70.5 70.6 70.9 71.4 71.7\n",
            " 72.  72.3] \n",
            "\n",
            "Height\n",
            "[47.8 48.8 49.4 49.6 49.7 50.2 50.5 50.6 50.8 51.  51.4 51.6 52.  52.4\n",
            " 52.5 52.6 52.8 53.  53.1 53.2 53.3 53.5 53.7 53.9 54.1 54.3 54.4 54.5\n",
            " 54.7 54.8 54.9 55.1 55.2 55.4 55.5 55.6 55.7 55.9 56.  56.1 56.2 56.3\n",
            " 56.5 56.7 57.5 58.3 58.7 59.1 59.8] \n",
            "\n",
            "Curb_Weight\n",
            "[1488 1713 1819 1837 1874 1876 1889 1890 1900 1905 1909 1918 1938 1940\n",
            " 1944 1945 1950 1951 1956 1967 1971 1985 1989 2004 2008 2010 2015 2017\n",
            " 2024 2028 2037 2040 2050 2081 2094 2109 2120 2122 2128 2140 2145 2169\n",
            " 2190 2191 2204 2209 2212 2221 2236 2240 2254 2261 2264 2265 2275 2280\n",
            " 2289 2290 2293 2300 2302 2304 2319 2324 2326 2328 2337 2340 2365 2370\n",
            " 2372 2380 2385 2395 2403 2405 2410 2414 2420 2425 2443 2455 2458 2460\n",
            " 2465 2480 2500 2507 2510 2535 2536 2540 2548 2551 2563 2579 2650 2658\n",
            " 2661 2670 2679 2695 2700 2707 2710 2714 2734 2756 2758 2765 2778 2800\n",
            " 2808 2811 2818 2823 2824 2833 2844 2847 2910 2912 2921 2926 2935 2952\n",
            " 2954 2975 2976 3012 3016 3020 3034 3042 3045 3049 3053 3055 3060 3062\n",
            " 3071 3075 3086 3095 3110 3130 3131 3139 3151 3157 3197 3217 3230 3252\n",
            " 3285 3296 3366 3380 3430 3485 3495 3505 3515 3685 3715 3740 3750 3770\n",
            " 3900 3950 4066] \n",
            "\n",
            "Engine_Type\n",
            "['dohc' 'dohcv' 'l' 'ohc' 'ohcf' 'ohcv' 'rotor'] \n",
            "\n",
            "Num_Cylinders\n",
            "['eight' 'five' 'four' 'six' 'three' 'twelve' 'two'] \n",
            "\n",
            "Engine_Size\n",
            "[ 61  70  79  80  90  91  92  97  98 103 108 109 110 111 119 120 121 122\n",
            " 130 131 132 134 136 140 141 145 146 151 152 156 161 164 171 173 181 183\n",
            " 194 203 209 234 258 304 308 326] \n",
            "\n",
            "Fuel_System\n",
            "['1bbl' '2bbl' '4bbl' 'idi' 'mfi' 'mpfi' 'spdi' 'spfi'] \n",
            "\n",
            "Bore\n",
            "['2.54' '2.68' '2.91' '2.92' '2.97' '2.99' '3.01' '3.03' '3.05' '3.08'\n",
            " '3.13' '3.15' '3.17' '3.19' '3.24' '3.27' '3.31' '3.33' '3.34' '3.35'\n",
            " '3.39' '3.43' '3.46' '3.47' '3.5' '3.54' '3.58' '3.59' '3.6' '3.61'\n",
            " '3.62' '3.63' '3.7' '3.74' '3.76' '3.78' '3.8' '3.94' '?'] \n",
            "\n",
            "Stroke\n",
            "['2.07' '2.19' '2.36' '2.64' '2.68' '2.76' '2.8' '2.87' '2.9' '3.03'\n",
            " '3.07' '3.08' '3.1' '3.11' '3.12' '3.15' '3.16' '3.19' '3.21' '3.23'\n",
            " '3.27' '3.29' '3.35' '3.39' '3.4' '3.41' '3.46' '3.47' '3.5' '3.52'\n",
            " '3.54' '3.58' '3.64' '3.86' '3.9' '4.17' '?'] \n",
            "\n",
            "Compression_Ratio\n",
            "[ 7.    7.5   7.6   7.7   7.8   8.    8.1   8.3   8.4   8.5   8.6   8.7\n",
            "  8.8   9.    9.1   9.2   9.3   9.31  9.4   9.41  9.5   9.6  10.   10.1\n",
            " 11.5  21.   21.5  21.9  22.   22.5  22.7  23.  ] \n",
            "\n",
            "Horsepower\n",
            "['100' '101' '102' '106' '110' '111' '112' '114' '115' '116' '120' '121'\n",
            " '123' '134' '135' '140' '142' '143' '145' '152' '154' '155' '156' '160'\n",
            " '161' '162' '175' '176' '182' '184' '200' '207' '262' '288' '48' '52'\n",
            " '55' '56' '58' '60' '62' '64' '68' '69' '70' '72' '73' '76' '78' '82'\n",
            " '84' '85' '86' '88' '90' '92' '94' '95' '97' '?'] \n",
            "\n",
            "Peak_RPM\n",
            "['4150' '4200' '4250' '4350' '4400' '4500' '4650' '4750' '4800' '4900'\n",
            " '5000' '5100' '5200' '5250' '5300' '5400' '5500' '5600' '5750' '5800'\n",
            " '5900' '6000' '6600' '?'] \n",
            "\n",
            "City_MPG\n",
            "[13 14 15 16 17 18 19 20 21 22 23 24 25 26 27 28 29 30 31 32 33 34 35 36\n",
            " 37 38 45 47 49] \n",
            "\n",
            "Highway_MPG\n",
            "[16 17 18 19 20 22 23 24 25 26 27 28 29 30 31 32 33 34 36 37 38 39 41 42\n",
            " 43 46 47 50 53 54] \n",
            "\n",
            "Price\n",
            "['10198' '10245' '10295' '10345' '10595' '10698' '10795' '10898' '10945'\n",
            " '11048' '11199' '11245' '11248' '11259' '11549' '11595' '11694' '11845'\n",
            " '11850' '11900' '12170' '12290' '12440' '12629' '12764' '12940' '12945'\n",
            " '12964' '13200' '13295' '13415' '13495' '13499' '13645' '13845' '13860'\n",
            " '13950' '14399' '14489' '14869' '15040' '15250' '15510' '15580' '15645'\n",
            " '15690' '15750' '15985' '15998' '16430' '16500' '16503' '16515' '16558'\n",
            " '16630' '16695' '16845' '16900' '16925' '17075' '17199' '17450' '17669'\n",
            " '17710' '17950' '18150' '18280' '18344' '18399' '18420' '18620' '18920'\n",
            " '18950' '19045' '19699' '20970' '21105' '21485' '22018' '22470' '22625'\n",
            " '23875' '24565' '25552' '28176' '28248' '30760' '31600' '32250' '32528'\n",
            " '34028' '34184' '35056' '35550' '36000' '36880' '37028' '40960' '41315'\n",
            " '45400' '5118' '5151' '5195' '5348' '5389' '5399' '5499' '5572' '6095'\n",
            " '6189' '6229' '6295' '6338' '6377' '6479' '6488' '6529' '6575' '6649'\n",
            " '6669' '6692' '6695' '6785' '6795' '6849' '6855' '6918' '6938' '6989'\n",
            " '7053' '7099' '7126' '7129' '7198' '7295' '7299' '7349' '7395' '7463'\n",
            " '7499' '7603' '7609' '7689' '7738' '7775' '7788' '7799' '7895' '7898'\n",
            " '7957' '7975' '7995' '7999' '8013' '8058' '8189' '8195' '8238' '8249'\n",
            " '8358' '8449' '8495' '8499' '8558' '8778' '8845' '8921' '8948' '8949'\n",
            " '9095' '9233' '9258' '9279' '9295' '9298' '9495' '9538' '9549' '9639'\n",
            " '9895' '9959' '9960' '9980' '9988' '9989' '9995' '?'] \n",
            "\n"
          ],
          "name": "stdout"
        }
      ]
    },
    {
      "cell_type": "markdown",
      "metadata": {
        "id": "0caiQW1c6u0d"
      },
      "source": [
        "Note: some numeric columns store their numbers as strings. May require conversion to int."
      ]
    },
    {
      "cell_type": "markdown",
      "metadata": {
        "id": "N5LpfAJd9seK"
      },
      "source": [
        "Let's visualize some of the column correlations."
      ]
    },
    {
      "cell_type": "code",
      "metadata": {
        "colab": {
          "base_uri": "https://localhost:8080/",
          "height": 831
        },
        "id": "SbN_nTHMKemZ",
        "outputId": "80126e06-8d57-4761-dc93-1aca79f86e78"
      },
      "source": [
        "categorical_columns = []\n",
        "FIRST_NON_NULL_ROW = 3\n",
        "for col in cars_df:\n",
        "  column_type = type(cars_df.loc[FIRST_NON_NULL_ROW, col])\n",
        "  if column_type == str:\n",
        "    categorical_columns.append(col)\n",
        "print(categorical_columns)\n",
        "\n",
        "fig = plt.figure(figsize=(16, 12)) \n",
        "corr = cars_df.copy().corr() \n",
        "sns.heatmap(corr, annot=True)\n",
        "\n",
        "b, t = plt.ylim()\n",
        "b += 0.5 \n",
        "t -= 0.5 \n",
        "plt.ylim(b, t) \n",
        "fig.suptitle('Numeric Correlation Heatmap') #make acc\n",
        "plt.show()"
      ],
      "execution_count": 21,
      "outputs": [
        {
          "output_type": "stream",
          "text": [
            "['Normalized_Losses', 'Make', 'Fuel_Type', 'Aspiration', 'Num_Doors', 'Body_Style', 'Drive_Wheels', 'Engine_Location', 'Engine_Type', 'Num_Cylinders', 'Fuel_System', 'Bore', 'Stroke', 'Horsepower', 'Peak_RPM', 'Price']\n"
          ],
          "name": "stdout"
        },
        {
          "output_type": "display_data",
          "data": {
            "image/png": "[encoded data removed]",
            "text/plain": [
              "<Figure size 1152x864 with 2 Axes>"
            ]
          },
          "metadata": {
            "tags": [],
            "needs_background": "light"
          }
        }
      ]
    },
    {
      "cell_type": "markdown",
      "metadata": {
        "id": "UmWj8PuX8_8e"
      },
      "source": [
        "Part 3: Data Cleaning\n",
        "=="
      ]
    },
    {
      "cell_type": "markdown",
      "metadata": {
        "id": "ExFw9uUGQysS"
      },
      "source": [
        "Nulls?"
      ]
    },
    {
      "cell_type": "code",
      "metadata": {
        "colab": {
          "base_uri": "https://localhost:8080/"
        },
        "id": "XuibI8r-Q07T",
        "outputId": "4df666f2-04d1-493f-c1d2-5c4f1484aa67"
      },
      "source": [
        "cars_df = cars_df.replace('?',np.NAN)\n",
        "null_count = cars_df.isnull().sum()\n",
        "\n",
        "print('Columns with null values:', [col for col in cars_df if cars_df.loc[:,col].isnull().sum()>0],'\\n')\n",
        "\n",
        "print(null_count,'\\n')\n",
        "print(null_count/len(cars_df) *100)"
      ],
      "execution_count": 22,
      "outputs": [
        {
          "output_type": "stream",
          "text": [
            "Columns with null values: ['Normalized_Losses', 'Num_Doors', 'Bore', 'Stroke', 'Horsepower', 'Peak_RPM', 'Price'] \n",
            "\n",
            "Symboling             0\n",
            "Normalized_Losses    41\n",
            "Make                  0\n",
            "Fuel_Type             0\n",
            "Aspiration            0\n",
            "Num_Doors             2\n",
            "Body_Style            0\n",
            "Drive_Wheels          0\n",
            "Engine_Location       0\n",
            "Wheel_Base            0\n",
            "Length                0\n",
            "Width                 0\n",
            "Height                0\n",
            "Curb_Weight           0\n",
            "Engine_Type           0\n",
            "Num_Cylinders         0\n",
            "Engine_Size           0\n",
            "Fuel_System           0\n",
            "Bore                  4\n",
            "Stroke                4\n",
            "Compression_Ratio     0\n",
            "Horsepower            2\n",
            "Peak_RPM              2\n",
            "City_MPG              0\n",
            "Highway_MPG           0\n",
            "Price                 4\n",
            "dtype: int64 \n",
            "\n",
            "Symboling             0.00000\n",
            "Normalized_Losses    20.00000\n",
            "Make                  0.00000\n",
            "Fuel_Type             0.00000\n",
            "Aspiration            0.00000\n",
            "Num_Doors             0.97561\n",
            "Body_Style            0.00000\n",
            "Drive_Wheels          0.00000\n",
            "Engine_Location       0.00000\n",
            "Wheel_Base            0.00000\n",
            "Length                0.00000\n",
            "Width                 0.00000\n",
            "Height                0.00000\n",
            "Curb_Weight           0.00000\n",
            "Engine_Type           0.00000\n",
            "Num_Cylinders         0.00000\n",
            "Engine_Size           0.00000\n",
            "Fuel_System           0.00000\n",
            "Bore                  1.95122\n",
            "Stroke                1.95122\n",
            "Compression_Ratio     0.00000\n",
            "Horsepower            0.97561\n",
            "Peak_RPM              0.97561\n",
            "City_MPG              0.00000\n",
            "Highway_MPG           0.00000\n",
            "Price                 1.95122\n",
            "dtype: float64\n"
          ],
          "name": "stdout"
        }
      ]
    },
    {
      "cell_type": "markdown",
      "metadata": {
        "id": "BmrmcBTNWpM5"
      },
      "source": [
        "Thankfully, the nulls appear to correlate (besides for the `Normalized Losses`)."
      ]
    },
    {
      "cell_type": "markdown",
      "metadata": {
        "id": "ljBhbJlcKe0l"
      },
      "source": [
        "Part 4: Feature Selection and Dimension Reduction\n",
        "=="
      ]
    },
    {
      "cell_type": "code",
      "metadata": {
        "id": "JXv-10UNKmfI"
      },
      "source": [
        ""
      ],
      "execution_count": null,
      "outputs": []
    },
    {
      "cell_type": "markdown",
      "metadata": {
        "id": "3vhv6LgQKmuZ"
      },
      "source": [
        "Validation\n",
        "=="
      ]
    },
    {
      "cell_type": "code",
      "metadata": {
        "id": "3bsUrZkrKvWF"
      },
      "source": [
        ""
      ],
      "execution_count": null,
      "outputs": []
    }
  ]
}