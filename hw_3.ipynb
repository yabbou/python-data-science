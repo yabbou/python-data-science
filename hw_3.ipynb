{
  "nbformat": 4,
  "nbformat_minor": 0,
  "metadata": {
    "colab": {
      "name": "hw 3.ipynb",
      "provenance": [],
      "collapsed_sections": [],
      "authorship_tag": "ABX9TyMj1xgOX0OwkjXhF9dT2uwa",
      "include_colab_link": true
    },
    "kernelspec": {
      "name": "python3",
      "display_name": "Python 3"
    }
  },
  "cells": [
    {
      "cell_type": "markdown",
      "metadata": {
        "id": "view-in-github",
        "colab_type": "text"
      },
      "source": [
        "<a href=\"https://colab.research.google.com/github/yabbou/python-data-science/blob/main/hw_3.ipynb\" target=\"_parent\"><img src=\"https://colab.research.google.com/assets/colab-badge.svg\" alt=\"Open In Colab\"/></a>"
      ]
    },
    {
      "cell_type": "markdown",
      "metadata": {
        "id": "HmsjtkSW_Ojz"
      },
      "source": [
        "###Set 1"
      ]
    },
    {
      "cell_type": "markdown",
      "metadata": {
        "id": "4lKF8rZb_26f"
      },
      "source": [
        "Having imported the car data to github, import the data into a panda dataframe:"
      ]
    },
    {
      "cell_type": "code",
      "metadata": {
        "id": "IXIvzPUfrwiE"
      },
      "source": [
        "import pandas as pd\r\n",
        "car_info = pd.read_csv('https://raw.githubusercontent.com/yabbou/python-data-science/main/hw_3/Blank_Car_Info.csv')"
      ],
      "execution_count": null,
      "outputs": []
    },
    {
      "cell_type": "markdown",
      "metadata": {
        "id": "tLoo0oLy_mdQ"
      },
      "source": [
        "Assign the column names as ```[numDoors, numCylinders, mpgHighway, mpgStreets, currentMileage, avgMileagePerTuneUp, qualityRating]```"
      ]
    },
    {
      "cell_type": "code",
      "metadata": {
        "colab": {
          "base_uri": "https://localhost:8080/",
          "height": 427
        },
        "id": "QMZnGpnE_qXB",
        "outputId": "708b9b50-9d7d-4df9-aee8-88a0780c14e4"
      },
      "source": [
        "car_info.columns = ['numDoors', 'numCylinders', 'mpgHighway', 'mpgStreets', 'currentMileage', 'avgMileagePerTuneUp', 'qualityRating']\r\n",
        "car_info"
      ],
      "execution_count": null,
      "outputs": [
        {
          "output_type": "execute_result",
          "data": {
            "text/html": [
              "<div>\n",
              "<style scoped>\n",
              "    .dataframe tbody tr th:only-of-type {\n",
              "        vertical-align: middle;\n",
              "    }\n",
              "\n",
              "    .dataframe tbody tr th {\n",
              "        vertical-align: top;\n",
              "    }\n",
              "\n",
              "    .dataframe thead th {\n",
              "        text-align: right;\n",
              "    }\n",
              "</style>\n",
              "<table border=\"1\" class=\"dataframe\">\n",
              "  <thead>\n",
              "    <tr style=\"text-align: right;\">\n",
              "      <th></th>\n",
              "      <th>numDoors</th>\n",
              "      <th>numCylinders</th>\n",
              "      <th>mpgHighway</th>\n",
              "      <th>mpgStreets</th>\n",
              "      <th>currentMileage</th>\n",
              "      <th>avgMileagePerTuneUp</th>\n",
              "      <th>qualityRating</th>\n",
              "    </tr>\n",
              "  </thead>\n",
              "  <tbody>\n",
              "    <tr>\n",
              "      <th>0</th>\n",
              "      <td>1</td>\n",
              "      <td>2</td>\n",
              "      <td>10</td>\n",
              "      <td>10</td>\n",
              "      <td>325</td>\n",
              "      <td>934</td>\n",
              "      <td>0.754573</td>\n",
              "    </tr>\n",
              "    <tr>\n",
              "      <th>1</th>\n",
              "      <td>1</td>\n",
              "      <td>3</td>\n",
              "      <td>10</td>\n",
              "      <td>10</td>\n",
              "      <td>431</td>\n",
              "      <td>915</td>\n",
              "      <td>0.886215</td>\n",
              "    </tr>\n",
              "    <tr>\n",
              "      <th>2</th>\n",
              "      <td>2</td>\n",
              "      <td>3</td>\n",
              "      <td>35</td>\n",
              "      <td>35</td>\n",
              "      <td>463</td>\n",
              "      <td>10</td>\n",
              "      <td>0.971624</td>\n",
              "    </tr>\n",
              "    <tr>\n",
              "      <th>3</th>\n",
              "      <td>2</td>\n",
              "      <td>2</td>\n",
              "      <td>10</td>\n",
              "      <td>10</td>\n",
              "      <td>283</td>\n",
              "      <td>10</td>\n",
              "      <td>0.848398</td>\n",
              "    </tr>\n",
              "    <tr>\n",
              "      <th>4</th>\n",
              "      <td>1</td>\n",
              "      <td>2</td>\n",
              "      <td>40</td>\n",
              "      <td>10</td>\n",
              "      <td>915</td>\n",
              "      <td>699</td>\n",
              "      <td>0.804142</td>\n",
              "    </tr>\n",
              "    <tr>\n",
              "      <th>...</th>\n",
              "      <td>...</td>\n",
              "      <td>...</td>\n",
              "      <td>...</td>\n",
              "      <td>...</td>\n",
              "      <td>...</td>\n",
              "      <td>...</td>\n",
              "      <td>...</td>\n",
              "    </tr>\n",
              "    <tr>\n",
              "      <th>1074</th>\n",
              "      <td>4</td>\n",
              "      <td>1</td>\n",
              "      <td>35</td>\n",
              "      <td>10</td>\n",
              "      <td>463</td>\n",
              "      <td>283</td>\n",
              "      <td>0.518708</td>\n",
              "    </tr>\n",
              "    <tr>\n",
              "      <th>1075</th>\n",
              "      <td>4</td>\n",
              "      <td>2</td>\n",
              "      <td>35</td>\n",
              "      <td>35</td>\n",
              "      <td>934</td>\n",
              "      <td>431</td>\n",
              "      <td>0.540775</td>\n",
              "    </tr>\n",
              "    <tr>\n",
              "      <th>1076</th>\n",
              "      <td>2</td>\n",
              "      <td>2</td>\n",
              "      <td>35</td>\n",
              "      <td>40</td>\n",
              "      <td>325</td>\n",
              "      <td>10</td>\n",
              "      <td>0.919054</td>\n",
              "    </tr>\n",
              "    <tr>\n",
              "      <th>1077</th>\n",
              "      <td>1</td>\n",
              "      <td>1</td>\n",
              "      <td>40</td>\n",
              "      <td>40</td>\n",
              "      <td>463</td>\n",
              "      <td>10</td>\n",
              "      <td>0.828795</td>\n",
              "    </tr>\n",
              "    <tr>\n",
              "      <th>1078</th>\n",
              "      <td>2</td>\n",
              "      <td>3</td>\n",
              "      <td>35</td>\n",
              "      <td>40</td>\n",
              "      <td>10</td>\n",
              "      <td>934</td>\n",
              "      <td>0.116761</td>\n",
              "    </tr>\n",
              "  </tbody>\n",
              "</table>\n",
              "<p>1079 rows × 7 columns</p>\n",
              "</div>"
            ],
            "text/plain": [
              "      numDoors  numCylinders  ...  avgMileagePerTuneUp  qualityRating\n",
              "0            1             2  ...                  934       0.754573\n",
              "1            1             3  ...                  915       0.886215\n",
              "2            2             3  ...                   10       0.971624\n",
              "3            2             2  ...                   10       0.848398\n",
              "4            1             2  ...                  699       0.804142\n",
              "...        ...           ...  ...                  ...            ...\n",
              "1074         4             1  ...                  283       0.518708\n",
              "1075         4             2  ...                  431       0.540775\n",
              "1076         2             2  ...                   10       0.919054\n",
              "1077         1             1  ...                   10       0.828795\n",
              "1078         2             3  ...                  934       0.116761\n",
              "\n",
              "[1079 rows x 7 columns]"
            ]
          },
          "metadata": {
            "tags": []
          },
          "execution_count": 21
        }
      ]
    },
    {
      "cell_type": "markdown",
      "metadata": {
        "id": "8lw2ncELrfs-"
      },
      "source": [
        "Check for null values"
      ]
    },
    {
      "cell_type": "code",
      "metadata": {
        "colab": {
          "base_uri": "https://localhost:8080/"
        },
        "id": "R1wcYBwireo3",
        "outputId": "e8e336fd-8e3e-4774-a94b-3ec803d4fb24"
      },
      "source": [
        "car_data_checked_for_null = car_info.isnull().sum()\r\n",
        "print(car_data_checked_for_null)"
      ],
      "execution_count": null,
      "outputs": [
        {
          "output_type": "stream",
          "text": [
            "numDoors               0\n",
            "numCylinders           0\n",
            "mpgHighway             0\n",
            "mpgStreets             0\n",
            "currentMileage         0\n",
            "avgMileagePerTuneUp    0\n",
            "qualityRating          0\n",
            "dtype: int64\n"
          ],
          "name": "stdout"
        }
      ]
    },
    {
      "cell_type": "markdown",
      "metadata": {
        "id": "SP75CYdbe6k2"
      },
      "source": [
        "Use the drive colab notebook ```_2 Practice Problems, Regex, Simple ML Examples.ipynb``` to run a kmeans clustering and find the centers if the data were divided into 4 categories.\r\n"
      ]
    },
    {
      "cell_type": "code",
      "metadata": {
        "colab": {
          "base_uri": "https://localhost:8080/"
        },
        "id": "cCFYIMMUfAfW",
        "outputId": "6916a138-e4d7-477e-d96c-e0fbdf9f56bd"
      },
      "source": [
        "from sklearn.cluster import KMeans\r\n",
        "import matplotlib.pyplot as plt\r\n",
        "\r\n",
        "kmeans = KMeans(n_clusters=4).fit(car_info)\r\n",
        "clusters = kmeans.cluster_centers_\r\n",
        "print(clusters)"
      ],
      "execution_count": null,
      "outputs": [
        {
          "output_type": "stream",
          "text": [
            "[[2.26406926e+00 2.49783550e+00 2.61904762e+01 2.51515152e+01\n",
            "  8.54476190e+02 2.33956710e+02 4.89550879e-01]\n",
            " [2.41981132e+00 2.42924528e+00 2.62971698e+01 2.72169811e+01\n",
            "  2.48825472e+02 8.66966981e+02 5.46785990e-01]\n",
            " [2.35379061e+00 2.37184116e+00 2.68772563e+01 2.58032491e+01\n",
            "  2.52176895e+02 2.45373646e+02 5.06421092e-01]\n",
            " [2.34146341e+00 2.47560976e+00 2.70731707e+01 2.67682927e+01\n",
            "  8.75695122e+02 8.72621951e+02 5.06455425e-01]]\n"
          ],
          "name": "stdout"
        }
      ]
    },
    {
      "cell_type": "markdown",
      "metadata": {
        "id": "MeMiJdgisBm3"
      },
      "source": [
        "We are given a new car with stats ```[2, 4, 500, 300, 150, 760, .6]```. \r\n",
        "\r\n",
        "Find which cluster it belongs to.\r\n"
      ]
    },
    {
      "cell_type": "code",
      "metadata": {
        "colab": {
          "base_uri": "https://localhost:8080/"
        },
        "id": "fP1ez0O1sJ5i",
        "outputId": "b3c27f04-e089-4e4e-aa9c-b52ca7a4db52"
      },
      "source": [
        "import numpy as np\r\n",
        "\r\n",
        "new_car = np.array([2, 4, 500, 300, 150, 760, .6])\r\n",
        "new_car_cluster = kmeans.predict(new_car.reshape(1,-1))\r\n",
        "print(new_car_cluster)"
      ],
      "execution_count": null,
      "outputs": [
        {
          "output_type": "stream",
          "text": [
            "[1]\n"
          ],
          "name": "stdout"
        }
      ]
    },
    {
      "cell_type": "markdown",
      "metadata": {
        "id": "psZSbYPXsKPW"
      },
      "source": [
        "We are given a new car with stats ```[2, 3, 100, 900, 500, 45]``` with the qualityRating unknown. Use SVM to find it's quality rating.  \r\n",
        "\r\n",
        "Note: I suggest that you find a way to \"bin\" the quality ratings so that you have only a couple of categories instead of what is given, and only then do the SVM.\r\n"
      ]
    },
    {
      "cell_type": "code",
      "metadata": {
        "id": "5rO5ymU1sSyL",
        "colab": {
          "base_uri": "https://localhost:8080/"
        },
        "outputId": "7553b165-b831-4cf5-a007-54490ea981ee"
      },
      "source": [
        "from sklearn import svm\r\n",
        "\r\n",
        "CI = car_info \r\n",
        "svm = svm.SVR().fit(CI.iloc[:,:-1], CI.iloc[:,-1])\r\n",
        "new_car_2 = svm.predict([[2, 3, 100, 900, 500, 45]])\r\n",
        "print('Quality rating:', new_car_2)"
      ],
      "execution_count": null,
      "outputs": [
        {
          "output_type": "stream",
          "text": [
            "Quality rating: [0.46624115]\n"
          ],
          "name": "stdout"
        }
      ]
    },
    {
      "cell_type": "markdown",
      "metadata": {
        "id": "MFvxz1HV5Vyg"
      },
      "source": [
        "###Set 2"
      ]
    },
    {
      "cell_type": "markdown",
      "metadata": {
        "id": "ZuDRDIZp5Yi9"
      },
      "source": [
        "Go to yahoo finance and download the data for five stocks of your choice. See: [How to download yahoo stock data](https://www.macroption.com/yahoo-finance-download-historical-data/)\r\n",
        "\r\n",
        "* Have the first column of your data as the **date** and the subsequent \r\n",
        "column as the **close price** of the stock. \r\n",
        "* Your sheet should have 6 columns altogether. (You should take at least a year, preferably more.) \r\n",
        "* Upload your data to github.\r\n",
        "* Place your data in a colab notebook into a pandas dataframe."
      ]
    },
    {
      "cell_type": "markdown",
      "metadata": {
        "id": "jn0VfsU8cqRt"
      },
      "source": [
        "Output the statistics for each column"
      ]
    },
    {
      "cell_type": "code",
      "metadata": {
        "id": "yC4OVl3J7Mfq",
        "colab": {
          "base_uri": "https://localhost:8080/"
        },
        "outputId": "fa0479df-536e-4c42-c608-18b42798e76b"
      },
      "source": [
        "import pandas as pd\r\n",
        "TSLA = pd.read_csv('https://raw.githubusercontent.com/yabbou/python-data-science/main/hw_3/TSLA.csv')\r\n",
        "JNJ = pd.read_csv('https://raw.githubusercontent.com/yabbou/python-data-science/main/hw_3/JNJ.csv')\r\n",
        "NEE = pd.read_csv('https://raw.githubusercontent.com/yabbou/python-data-science/main/hw_3/NEE.csv')\r\n",
        "SHOP = pd.read_csv('https://raw.githubusercontent.com/yabbou/python-data-science/main/hw_3/SHOP.csv')\r\n",
        "AZRG_TA = pd.read_csv('https://raw.githubusercontent.com/yabbou/python-data-science/main/hw_3/AZRG.TA.csv')\r\n",
        "\r\n",
        "print('TSLA\\n',TSLA.head(3))\r\n",
        "print('JNJ\\n',JNJ.head(3))\r\n",
        "print('NEE\\n',NEE.head(3))\r\n",
        "print('SHOP\\n',SHOP.head(3))\r\n",
        "print('AZRG_TA\\n',AZRG_TA.head(3))"
      ],
      "execution_count": 1,
      "outputs": [
        {
          "output_type": "stream",
          "text": [
            "TSLA\n",
            "          Date       Open       High        Low      Close  Adj Close    Volume\n",
            "0  2016-03-02  36.745998  37.703999  36.299999  37.667999  37.667999  24312000\n",
            "1  2016-03-03  37.655998  39.484001  36.844002  39.147999  39.147999  24145000\n",
            "2  2016-03-04  39.599998  40.806000  39.500000  40.208000  40.208000  32445500\n",
            "JNJ\n",
            "          Date        Open        High  ...       Close  Adj Close   Volume\n",
            "0  2016-03-02  106.910004  107.410004  ...  107.040001  93.625351  9767000\n",
            "1  2016-03-03  106.820000  107.000000  ...  106.650002  93.284225  6927200\n",
            "2  2016-03-04  106.510002  106.980003  ...  106.500000  93.153008  6715700\n",
            "\n",
            "[3 rows x 7 columns]\n",
            "NEE\n",
            "          Date       Open    High        Low      Close  Adj Close    Volume\n",
            "0  2016-03-02  28.059999  28.215  27.334999  28.090000  24.769686  11023600\n",
            "1  2016-03-03  28.120001  28.135  27.490000  27.905001  24.606552  13735600\n",
            "2  2016-03-04  27.802500  28.635  27.662500  28.572500  25.195156  11726400\n",
            "SHOP\n",
            "          Date       Open       High        Low      Close  Adj Close   Volume\n",
            "0  2016-03-02  22.639999  24.440001  22.469999  24.360001  24.360001  1495800\n",
            "1  2016-03-03  24.360001  25.709999  23.674999  24.270000  24.270000  1210500\n",
            "2  2016-03-04  24.510000  25.500000  24.400000  25.160000  25.160000   877200\n",
            "AZRG_TA\n",
            "          Date     Open     High      Low    Close     Adj Close   Volume\n",
            "0  2016-03-02  14380.0  14430.0  14210.0  14300.0  12940.657227  39026.0\n",
            "1  2016-03-03  14450.0  14450.0  14180.0  14330.0  12967.804688  48552.0\n",
            "2  2016-03-06  14300.0  14490.0  14300.0  14400.0  13031.151367  15012.0\n"
          ],
          "name": "stdout"
        }
      ]
    },
    {
      "cell_type": "markdown",
      "metadata": {
        "id": "yMOiHQr-ckVd"
      },
      "source": [
        "Output the covariance and correlation matrices."
      ]
    },
    {
      "cell_type": "code",
      "metadata": {
        "id": "Hgg0Bt2sc1Jf",
        "colab": {
          "base_uri": "https://localhost:8080/"
        },
        "outputId": "f89ee83e-e858-40b8-c1bb-6c3f302f141e"
      },
      "source": [
        "print('TSLA: Correlation\\n',TSLA.corr())\r\n",
        "print('\\nTSLA: Covariance\\n',TSLA.cov())\r\n",
        "\r\n",
        "# stocks = pd.DataFrame(TSLA,JNJ,NEE,SHOP,AZRG_TA)\r\n",
        "# print('Correlation\\n',stocks.corr())\r\n",
        "# print('Covariance\\n',stocks.cov())"
      ],
      "execution_count": null,
      "outputs": [
        {
          "output_type": "stream",
          "text": [
            "TSLA: Correlation\n",
            "                Open      High       Low     Close  Adj Close    Volume\n",
            "Open       1.000000  0.999292  0.999547  0.999158   0.999158  0.136865\n",
            "High       0.999292  1.000000  0.999125  0.999422   0.999422  0.144378\n",
            "Low        0.999547  0.999125  1.000000  0.999508   0.999508  0.129084\n",
            "Close      0.999158  0.999422  0.999508  1.000000   1.000000  0.138548\n",
            "Adj Close  0.999158  0.999422  0.999508  1.000000   1.000000  0.138548\n",
            "Volume     0.136865  0.144378  0.129084  0.138548   0.138548  1.000000\n",
            "\n",
            "TSLA: Covariance\n",
            "                    Open          High  ...     Adj Close        Volume\n",
            "Open       2.938903e+04  3.014899e+04  ...  2.943357e+04  7.211389e+08\n",
            "High       3.014899e+04  3.097246e+04  ...  3.022408e+04  7.809474e+08\n",
            "Low        2.860242e+04  2.935043e+04  ...  2.866879e+04  6.622341e+08\n",
            "Close      2.943357e+04  3.022408e+04  ...  2.952787e+04  7.317251e+08\n",
            "Adj Close  2.943357e+04  3.022408e+04  ...  2.952787e+04  7.317251e+08\n",
            "Volume     7.211389e+08  7.809474e+08  ...  7.317251e+08  9.446384e+14\n",
            "\n",
            "[6 rows x 6 columns]\n"
          ],
          "name": "stdout"
        }
      ]
    },
    {
      "cell_type": "markdown",
      "metadata": {
        "id": "3kYkrZPGdH9o"
      },
      "source": [
        "Use a linear regression to predict the output for the next five days of one of the stocks"
      ]
    },
    {
      "cell_type": "code",
      "metadata": {
        "id": "EZOT9uic8pf1",
        "colab": {
          "base_uri": "https://localhost:8080/"
        },
        "outputId": "3d41254c-9fcd-4871-9b86-391b6af37105"
      },
      "source": [
        "from sklearn.linear_model import LinearRegression\r\n",
        "import datetime as dt\r\n",
        "import numpy as np\r\n",
        "\r\n",
        "def toDate(x):\r\n",
        "  return dt.datetime.toordinal(dt.datetime.strptime(x,'%Y-%m-%d'))\r\n",
        "\r\n",
        "prices = TSLA.loc[:,'Close']\r\n",
        "dates = pd.DataFrame([toDate(x) for x in TSLA.loc[:,'Date']])\r\n",
        "dates = dates.values.reshape(-1,1)\r\n",
        "\r\n",
        "model = LinearRegression()\r\n",
        "model.fit(dates, prices)\r\n",
        "\r\n",
        "def nextFiveDays():\r\n",
        "  arr = np.array([ dt.datetime.toordinal(dt.datetime.now()) + x for x in range(1,6) ])\r\n",
        "  return arr.reshape(-1,1)\r\n",
        "\r\n",
        "future_prices = model.predict(nextFiveDays())\r\n",
        "print('Prices for next five days:', future_prices)"
      ],
      "execution_count": 2,
      "outputs": [
        {
          "output_type": "stream",
          "text": [
            "Prices for next five days: [315.27478183 315.47891988 315.68305792 315.88719597 316.09133401]\n"
          ],
          "name": "stdout"
        }
      ]
    },
    {
      "cell_type": "markdown",
      "metadata": {
        "id": "0f7nV_ip8p4q"
      },
      "source": [
        "Change the data so that it is represented as a log percentage gain from the previous day. (The formula would be ```log[(day_1)/(day_0)]``` )"
      ]
    },
    {
      "cell_type": "code",
      "metadata": {
        "id": "J9g9FbtFnYYP",
        "colab": {
          "base_uri": "https://localhost:8080/"
        },
        "outputId": "735a6c62-7093-4d2f-a428-e62c76a5cdc6"
      },
      "source": [
        "log_percentage_gain = []\r\n",
        "last = future_prices[0]\r\n",
        "for price in list(future_prices):\r\n",
        "  log_percentage_gain.append(np.log(price/last)*100) \r\n",
        "  last = price\r\n",
        "print(log_percentage_gain)"
      ],
      "execution_count": 9,
      "outputs": [
        {
          "output_type": "stream",
          "text": [
            "[0.0, 0.06472829271009455, 0.06468642229187234, 0.064644606007579, 0.06460284375232322]\n"
          ],
          "name": "stdout"
        }
      ]
    }
  ]
}