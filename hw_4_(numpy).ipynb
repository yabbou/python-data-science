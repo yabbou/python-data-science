{
  "nbformat": 4,
  "nbformat_minor": 0,
  "metadata": {
    "colab": {
      "name": "hw 4 (numpy).ipynb",
      "provenance": [],
      "collapsed_sections": [],
      "authorship_tag": "ABX9TyMz2vHT6iTsJbtoRjnEHyuo",
      "include_colab_link": true
    },
    "kernelspec": {
      "name": "python3",
      "display_name": "Python 3"
    },
    "language_info": {
      "name": "python"
    }
  },
  "cells": [
    {
      "cell_type": "markdown",
      "metadata": {
        "id": "view-in-github",
        "colab_type": "text"
      },
      "source": [
        "<a href=\"https://colab.research.google.com/github/yabbou/python-data-science/blob/main/hw_4_(numpy).ipynb\" target=\"_parent\"><img src=\"https://colab.research.google.com/assets/colab-badge.svg\" alt=\"Open In Colab\"/></a>"
      ]
    },
    {
      "cell_type": "markdown",
      "metadata": {
        "id": "DN1Cjn1WaE_l"
      },
      "source": [
        "1. (10 Points) Write a Python/NumPy code block that finds the distinct/**unique** common items between these two\n",
        "arrays:\n",
        "\n",
        "```\n",
        "a = np.array([1, 2, 3, 2, 3, 4, 3, 4, 5, 6])\n",
        "b = np.array([7, 2, 10, 2, 7, 4, 9, 4, 9, 8])\n",
        "```\n",
        "Your output should contain only the distinct overlapping values. For example, if a 2 is found in both array a and array b,\n",
        "your output should contain only one 2 even if array a contains more than one 2 within it."
      ]
    },
    {
      "cell_type": "code",
      "metadata": {
        "colab": {
          "base_uri": "https://localhost:8080/"
        },
        "id": "cW3oP5LCaYOg",
        "outputId": "32f95001-a6e0-438a-fddf-facbc4093b0e"
      },
      "source": [
        "import numpy as np\n",
        "\n",
        "a = np.array([1, 2, 3, 2, 3, 4, 3, 4, 5, 6])\n",
        "b = np.array([7, 2, 10, 2, 7, 4, 9, 4, 9, 8])\n",
        "unique = np.union1d(a,b)\n",
        "print(unique)"
      ],
      "execution_count": null,
      "outputs": [
        {
          "output_type": "stream",
          "text": [
            "[ 1  2  3  4  5  6  7  8  9 10]\n"
          ],
          "name": "stdout"
        }
      ]
    },
    {
      "cell_type": "markdown",
      "metadata": {
        "id": "durcfVAGchAF"
      },
      "source": [
        "2. (10 Points) Create the following 5x3 array using knowledge you have of Python’s / NumPy’s sequencing functionality\n",
        "so that you do not need to explicitly key in every integer value.\n",
        "\n",
        "|   |    |    |\n",
        "|---|----|--- |\n",
        "| 1 | 6  | 11 |\n",
        "| 2 | 7  | 12 |\n",
        "| 3 | 8  | 13 |\n",
        "| 4 | 9  | 14 |\n",
        "| 5 | 10 | 15 |"
      ]
    },
    {
      "cell_type": "code",
      "metadata": {
        "colab": {
          "base_uri": "https://localhost:8080/"
        },
        "id": "KTsuBOskd50I",
        "outputId": "cf5becff-41f0-4d32-a55e-9a297ac0e1b4"
      },
      "source": [
        "two_dim = np.arange(1,16).reshape(3,5)\n",
        "two_dim = two_dim.T\n",
        "print(two_dim)"
      ],
      "execution_count": null,
      "outputs": [
        {
          "output_type": "stream",
          "text": [
            "[[ 1  6 11]\n",
            " [ 2  7 12]\n",
            " [ 3  8 13]\n",
            " [ 4  9 14]\n",
            " [ 5 10 15]]\n"
          ],
          "name": "stdout"
        }
      ]
    },
    {
      "cell_type": "markdown",
      "metadata": {
        "id": "vZWBn3Xet3fO"
      },
      "source": [
        "3. (10 Points) The process of transforming a multidimensional array into a unidimensional array is referred to as\n",
        "“flattening”. Transform the 5x3 array shown above in Problem 2 into a unidimensional array such that the sequence of\n",
        "values contained within the array is as follows: \n",
        "```1, 2, 3, 4, 5, 6, 7, 8, 9, 10, 11, 12, 13, 14, 15```"
      ]
    },
    {
      "cell_type": "code",
      "metadata": {
        "colab": {
          "base_uri": "https://localhost:8080/"
        },
        "id": "5R42MxTKuA7w",
        "outputId": "b86ca891-9c31-46fa-89fa-04c034ad4ae4"
      },
      "source": [
        "flat = arr.reshape(1,15) #arr.flat[:]\n",
        "flat.sort()\n",
        "print(flat)"
      ],
      "execution_count": null,
      "outputs": [
        {
          "output_type": "stream",
          "text": [
            "[[ 1  2  3  4  5  6  7  8  9 10 11 12 13 14 15]]\n"
          ],
          "name": "stdout"
        }
      ]
    },
    {
      "cell_type": "markdown",
      "metadata": {
        "id": "M1EYS1GPxTpe"
      },
      "source": [
        "4. (15 Points) Transform the 2-D array shown in Problem 2 into a 3 dimensional array such that the first column\n",
        "becomes the first dimension of the 3-D array, the second column becomes the second dimension of the 3-D array, and\n",
        "the third column becomes the third dimension of the 3-D array."
      ]
    },
    {
      "cell_type": "code",
      "metadata": {
        "colab": {
          "base_uri": "https://localhost:8080/"
        },
        "id": "GSYUN4uL534T",
        "outputId": "c668bd2b-2546-4595-8a13-0702ec6d4692"
      },
      "source": [
        "print('Two dimenstional:\\n\\n',two_dim,'\\n')\n",
        "\n",
        "three_dim = arr.T.reshape((three_dim.shape[0], three_dim.shape[1], 1)) #np.asarray(arr.T).reshape(3,5,1)\n",
        "print('Three dimenstional:\\n\\n',three_dim)"
      ],
      "execution_count": null,
      "outputs": [
        {
          "output_type": "stream",
          "text": [
            "Two dimenstional:\n",
            "\n",
            " [[ 1  6 11]\n",
            " [ 2  7 12]\n",
            " [ 3  8 13]\n",
            " [ 4  9 14]\n",
            " [ 5 10 15]] \n",
            "\n",
            "Three dimenstional:\n",
            "\n",
            " [[[ 1]\n",
            "  [ 2]\n",
            "  [ 3]\n",
            "  [ 4]\n",
            "  [ 5]]\n",
            "\n",
            " [[ 6]\n",
            "  [ 7]\n",
            "  [ 8]\n",
            "  [ 9]\n",
            "  [10]]\n",
            "\n",
            " [[11]\n",
            "  [12]\n",
            "  [13]\n",
            "  [14]\n",
            "  [15]]]\n"
          ],
          "name": "stdout"
        }
      ]
    },
    {
      "cell_type": "markdown",
      "metadata": {
        "id": "_H91Q2HJKoFT"
      },
      "source": [
        "5. (15 Points) Transform the 3-D array you created in Problem 4 back to the 2-dimensional format shown in Problem"
      ]
    },
    {
      "cell_type": "code",
      "metadata": {
        "colab": {
          "base_uri": "https://localhost:8080/"
        },
        "id": "4Za5Q6WaKpKN",
        "outputId": "ac93ddc4-7a05-4c24-f77b-9388d98c6056"
      },
      "source": [
        "two_dim_again = np.asarray(three_dim.T).reshape(5,3)\n",
        "print(two_dim_again)"
      ],
      "execution_count": null,
      "outputs": [
        {
          "output_type": "stream",
          "text": [
            "[[ 1  6 11]\n",
            " [ 2  7 12]\n",
            " [ 3  8 13]\n",
            " [ 4  9 14]\n",
            " [ 5 10 15]]\n"
          ],
          "name": "stdout"
        }
      ]
    },
    {
      "cell_type": "markdown",
      "metadata": {
        "id": "Fgny-wnGL4Jn"
      },
      "source": [
        "#Part 2"
      ]
    },
    {
      "cell_type": "markdown",
      "metadata": {
        "id": "m7Ty4ZQ-L6R_"
      },
      "source": [
        "6. (10 Points) You are given the following two arrays:\n",
        "```\n",
        "a = np.array([12, 5, 7, 15, 3, 1, 8])\n",
        "b = np.array([14, 6, 3, 11, 19, 12, 5])\n",
        "```\n",
        "Write a Python/Numpy code block that removes from array a any items that are also present in array b"
      ]
    },
    {
      "cell_type": "code",
      "metadata": {
        "colab": {
          "base_uri": "https://localhost:8080/"
        },
        "id": "ia3suA65MVHX",
        "outputId": "a43cb4ef-86c5-427d-880a-425caa4cd39c"
      },
      "source": [
        "import numpy as np\n",
        "\n",
        "a = np.array([12, 5, 7, 15, 3, 1, 8])\n",
        "b = np.array([14, 6, 3, 11, 19, 12, 5])\n",
        "\n",
        "a=np.setdiff1d(a,b)\n",
        "print(a)"
      ],
      "execution_count": null,
      "outputs": [
        {
          "output_type": "stream",
          "text": [
            "[ 1  7  8 15]\n"
          ],
          "name": "stdout"
        }
      ]
    },
    {
      "cell_type": "markdown",
      "metadata": {
        "id": "hZrPd059V9dT"
      },
      "source": [
        "7. (30 Points) For this problem you will load a small data set to your online GitHub repository and then read it into a\n",
        "NumPy 2D array. You will then use the content that NumPy array to answer a series of analytical questions.\n",
        "The original source of the data set contains an overview of its content\n",
        "[here](https://data.cityofnewyork.us/Environment/Water-Consumption-In-The-New-York-City/ia2d-e54m). Scroll down to the bottom of that page to access the interactive data viewer that includes the column headings for the\n",
        "data. Once you are comfortable in your understanding of the various data attributes, get started on the assignment as\n",
        "follows:\n",
        "\n",
        "1) Load the provided cityData.csv file to your online Github Repository.\n",
        "\n",
        "2) Then, from within your Jupyter Notebook, read the data set from your Github repository and load it into a Pandas\n",
        "dataframe."
      ]
    },
    {
      "cell_type": "code",
      "metadata": {
        "colab": {
          "base_uri": "https://localhost:8080/"
        },
        "id": "KYr1VEOlWWe6",
        "outputId": "1b8d3711-9b2e-41c2-9952-9937932d7e77"
      },
      "source": [
        "import numpy as np\n",
        "import pandas as pd\n",
        "\n",
        "# supress scientific notation\n",
        "np.set_printoptions(suppress = True)\n",
        "# read the data file from GitHub and convert to a NumPy ndarray object\n",
        "nyc_water_df = pd.read_csv('https://raw.githubusercontent.com/yabbou/python-data-science/main/hw_3/City_Data.csv')\n",
        "nyc_water = nyc_water_df.to_numpy()\n",
        "\n",
        "# verify you have an ndarray object\n",
        "type(nyc_water)"
      ],
      "execution_count": null,
      "outputs": [
        {
          "output_type": "execute_result",
          "data": {
            "text/plain": [
              "numpy.ndarray"
            ]
          },
          "metadata": {
            "tags": []
          },
          "execution_count": 24
        }
      ]
    },
    {
      "cell_type": "markdown",
      "metadata": {
        "id": "Zg_kAIezDf97"
      },
      "source": [
        "Using the `nyc_water` array you’ve created, answer the following questions using NumPy’s slicing, methods, and functions:\n",
        "* What is the maximum yearly NYC **consumption of water** (in millions of gallons per day)?\n",
        "* How many **calendar years** are represented within this data set? NumPy's shape command is one way to find out.\n",
        "* What is the **mean** and the **standard deviation** of the per capita daily water consumption?\n",
        "* What is the **increase/decrease in population** from year to year? Use NumPy's `diff` function to create an array of\n",
        "differences; save that to a variable called `pop_diff`; then print that variable to the screen."
      ]
    },
    {
      "cell_type": "markdown",
      "metadata": {
        "id": "9-gRVqgcjvfF"
      },
      "source": [
        "Student attempt for question seven:\n",
        "--"
      ]
    },
    {
      "cell_type": "markdown",
      "metadata": {
        "id": "3f1bsusCLv2d"
      },
      "source": [
        "First: To understand the numpy data, the column headings could be retrieved from the data when as a pandas `DataFrame`:"
      ]
    },
    {
      "cell_type": "code",
      "metadata": {
        "colab": {
          "base_uri": "https://localhost:8080/"
        },
        "id": "uvWHCNVvMZ6I",
        "outputId": "38c40b60-7b9c-4161-9929-3b31368c01dd"
      },
      "source": [
        "nyc_water_df.columns"
      ],
      "execution_count": null,
      "outputs": [
        {
          "output_type": "execute_result",
          "data": {
            "text/plain": [
              "Index(['Year', 'New York City Population',\n",
              "       'NYC Consumption(Million gallons per day)',\n",
              "       'Per Capita(Gallons per person per day)'],\n",
              "      dtype='object')"
            ]
          },
          "metadata": {
            "tags": []
          },
          "execution_count": 26
        }
      ]
    },
    {
      "cell_type": "markdown",
      "metadata": {
        "id": "EI8rtO1IMxmZ"
      },
      "source": [
        "So the NYC water consumption index is 2."
      ]
    },
    {
      "cell_type": "code",
      "metadata": {
        "colab": {
          "base_uri": "https://localhost:8080/"
        },
        "id": "xGn6J2ggDv9k",
        "outputId": "0462899b-f1c5-4704-b437-d1913e0d8651"
      },
      "source": [
        "WATER_CONSUMPTION_INDEX = 2\n",
        "annual_water_consumption = nyc_water[:, WATER_CONSUMPTION_INDEX]\n",
        "max_water = int(max(annual_water_consumption) * 1_000_000)\n",
        "\n",
        "print(f'Max: {max_water:,} gallons per day')"
      ],
      "execution_count": null,
      "outputs": [
        {
          "output_type": "stream",
          "text": [
            "Max: 1,512,000,000 gallons per day\n"
          ],
          "name": "stdout"
        }
      ]
    },
    {
      "cell_type": "markdown",
      "metadata": {
        "id": "o1Q0l9UoPMEH"
      },
      "source": [
        "Second: To find out the number of years of recorded NYC water consunmption data is stored in the array, we could use the array's *shape*-- the default row-column count. The number of rows (the 0th index in the `shape` array's returned result) will be the number of years of recorded data."
      ]
    },
    {
      "cell_type": "code",
      "metadata": {
        "colab": {
          "base_uri": "https://localhost:8080/"
        },
        "id": "drwkZEbWPTyJ",
        "outputId": "5f6e6702-5abf-450d-b41e-48e5f99ac5fc"
      },
      "source": [
        "print(nyc_water.shape[0],'years')"
      ],
      "execution_count": null,
      "outputs": [
        {
          "output_type": "stream",
          "text": [
            "39 years\n"
          ],
          "name": "stdout"
        }
      ]
    },
    {
      "cell_type": "markdown",
      "metadata": {
        "id": "xQo0ev-3jddq"
      },
      "source": [
        "Thrid: To find the mean number of gallons per capita and the standard deviation from that mean, we will use the array's fourth column (index 3), as seen from part 1 above."
      ]
    },
    {
      "cell_type": "code",
      "metadata": {
        "colab": {
          "base_uri": "https://localhost:8080/"
        },
        "id": "jDcN85YnkCfZ",
        "outputId": "b5bafc0b-1306-48b4-e916-b006d14ad112"
      },
      "source": [
        "gallons_per_captia = nyc_water[:, 3]\n",
        "mean_water = gallons_per_captia.mean()\n",
        "print(f'Mean: {mean_water:,.2f} gallons per capita, per person per day')\n",
        "\n",
        "std_water = gallons_per_captia.std()\n",
        "print(f'Stdv: {std_water:,.2f} gallons')"
      ],
      "execution_count": null,
      "outputs": [
        {
          "output_type": "stream",
          "text": [
            "Mean: 160.31 gallons per capita, per person per day\n",
            "Stdv: 31.52 gallons\n"
          ],
          "name": "stdout"
        }
      ]
    },
    {
      "cell_type": "markdown",
      "metadata": {
        "id": "cN4FifQ5SRZQ"
      },
      "source": [
        "Fourth: The NYC population data is stored in the 2nd column (index 1). "
      ]
    },
    {
      "cell_type": "code",
      "metadata": {
        "colab": {
          "base_uri": "https://localhost:8080/"
        },
        "id": "yKZ90z2bSinH",
        "outputId": "f47461c5-be94-48d1-e430-0edb5a3a89a8"
      },
      "source": [
        "population = nyc_water[:, 1]\n",
        "population_diff = np.diff(population)\n",
        "\n",
        "print('Population differences\\n',population_diff)"
      ],
      "execution_count": 96,
      "outputs": [
        {
          "output_type": "stream",
          "text": [
            "Population differences\n",
            " [-30461.   17602.   19864.   72119.   53290.   39540.   45192.   23230.\n",
            "  11243.   -9544.   -8525.   38851.   54443.   77222.   64292.   62582.\n",
            "  64772.   75631.   84816.   89401.   60618.   16685.5  16685.5  16685.5\n",
            "  16685.5  16685.5  16685.5  16685.5  16685.5  16685.5  16685.5 108965.\n",
            "  77081.   61281.   49530.   44512.   21171.   85025. ]\n"
          ],
          "name": "stdout"
        }
      ]
    }
  ]
}