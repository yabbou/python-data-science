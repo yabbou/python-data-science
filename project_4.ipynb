{
  "nbformat": 4,
  "nbformat_minor": 0,
  "metadata": {
    "colab": {
      "name": "project 4.ipynb",
      "provenance": [],
      "collapsed_sections": [
        "BEFEl3bFQwqy",
        "WdanwS6qQy0S"
      ],
      "authorship_tag": "ABX9TyNGs1mR5a0FllHx6WtRQQwh",
      "include_colab_link": true
    },
    "kernelspec": {
      "name": "python3",
      "display_name": "Python 3"
    },
    "language_info": {
      "name": "python"
    }
  },
  "cells": [
    {
      "cell_type": "markdown",
      "metadata": {
        "id": "view-in-github",
        "colab_type": "text"
      },
      "source": [
        "<a href=\"https://colab.research.google.com/github/yabbou/python-data-science/blob/main/project_4.ipynb\" target=\"_parent\"><img src=\"https://colab.research.google.com/assets/colab-badge.svg\" alt=\"Open In Colab\"/></a>"
      ]
    },
    {
      "cell_type": "markdown",
      "metadata": {
        "id": "YeNMcdsvO_MF"
      },
      "source": [
        "**Evaluating Machine Learning Performance Project**\n",
        "=="
      ]
    },
    {
      "cell_type": "markdown",
      "metadata": {
        "id": "L5x6n3D2Pser"
      },
      "source": [
        "Introduction\n",
        "==\n",
        "\n",
        "**Research Question:** analysing the nature of machine learning predictions.\n",
        "\n",
        "**Variables:** 181 binary classifications. A classification model has been used to “predict” the actual classifications for each observation.\n",
        "\n",
        "The data set includes three attributes that we will make use of for our analysis:\n",
        "\n",
        "1. **class**: the observation's classification \n",
        "2. **scored.class**: the predicted classification, predicted according to `scored.probability` (ie. `1` when `scored.probability` is greater than 0.50)\n",
        "3. **scored.probability**: the classification model’s probability score for the observation"
      ]
    },
    {
      "cell_type": "markdown",
      "metadata": {
        "id": "TkJE-OR3QOBg"
      },
      "source": [
        "**Summary:**\n",
        "\n",
        "Step 1: Introduction\n",
        "\n",
        "Step 2: Calculating Confusion Matrix\n",
        "\n",
        "Step 3: Extracting Matrix Values\n",
        "\n",
        "Step 4: Manually Calculating Metrics   \n",
        "\n",
        "Step 5: Manually Calculating ROC curve, AUC, and Probabilities\n",
        "\n",
        "Step 6: Conclusion\n"
      ]
    },
    {
      "cell_type": "markdown",
      "metadata": {
        "id": "BEFEl3bFQwqy"
      },
      "source": [
        "Part 2: Calculating Confusion Matrix\n",
        "=="
      ]
    },
    {
      "cell_type": "markdown",
      "metadata": {
        "id": "Rae-Qd91RHzV"
      },
      "source": [
        "Here is our data:"
      ]
    },
    {
      "cell_type": "code",
      "metadata": {
        "colab": {
          "base_uri": "https://localhost:8080/",
          "height": 0
        },
        "id": "hSKOI8vvO8gy",
        "outputId": "a4ac4b69-8be1-4b0f-c9f0-9b2d2c2dcefe"
      },
      "source": [
        "import pandas as pd \n",
        "import numpy as np\n",
        "import matplotlib.pyplot as plt\n",
        "import missingno as msno\n",
        "import seaborn as sns\n",
        "from sklearn.metrics import confusion_matrix, classification_report \n",
        "from sklearn.metrics import accuracy_score, recall_score, precision_score, f1_score, roc_auc_score, roc_curve\n",
        "from yellowbrick.classifier import ROCAUC\n",
        "\n",
        "import warnings\n",
        "warnings.filterwarnings(\"ignore\")\n",
        "\n",
        "data_df = pd.read_csv(\"https://raw.githubusercontent.com/MatthewFried/Udemy/master/Day4/Day4%20Data.csv\")\n",
        "backup_df = data_df.copy()\n",
        "data_df.head()"
      ],
      "execution_count": 11,
      "outputs": [
        {
          "output_type": "execute_result",
          "data": {
            "text/html": [
              "<div>\n",
              "<style scoped>\n",
              "    .dataframe tbody tr th:only-of-type {\n",
              "        vertical-align: middle;\n",
              "    }\n",
              "\n",
              "    .dataframe tbody tr th {\n",
              "        vertical-align: top;\n",
              "    }\n",
              "\n",
              "    .dataframe thead th {\n",
              "        text-align: right;\n",
              "    }\n",
              "</style>\n",
              "<table border=\"1\" class=\"dataframe\">\n",
              "  <thead>\n",
              "    <tr style=\"text-align: right;\">\n",
              "      <th></th>\n",
              "      <th>pregnant</th>\n",
              "      <th>glucose</th>\n",
              "      <th>diastolic</th>\n",
              "      <th>skinfold</th>\n",
              "      <th>insulin</th>\n",
              "      <th>bmi</th>\n",
              "      <th>pedigree</th>\n",
              "      <th>age</th>\n",
              "      <th>class</th>\n",
              "      <th>scored.class</th>\n",
              "      <th>scored.probability</th>\n",
              "    </tr>\n",
              "  </thead>\n",
              "  <tbody>\n",
              "    <tr>\n",
              "      <th>0</th>\n",
              "      <td>7</td>\n",
              "      <td>124</td>\n",
              "      <td>70</td>\n",
              "      <td>33</td>\n",
              "      <td>215</td>\n",
              "      <td>25.5</td>\n",
              "      <td>0.161</td>\n",
              "      <td>37</td>\n",
              "      <td>0</td>\n",
              "      <td>0</td>\n",
              "      <td>0.328452</td>\n",
              "    </tr>\n",
              "    <tr>\n",
              "      <th>1</th>\n",
              "      <td>2</td>\n",
              "      <td>122</td>\n",
              "      <td>76</td>\n",
              "      <td>27</td>\n",
              "      <td>200</td>\n",
              "      <td>35.9</td>\n",
              "      <td>0.483</td>\n",
              "      <td>26</td>\n",
              "      <td>0</td>\n",
              "      <td>0</td>\n",
              "      <td>0.273190</td>\n",
              "    </tr>\n",
              "    <tr>\n",
              "      <th>2</th>\n",
              "      <td>3</td>\n",
              "      <td>107</td>\n",
              "      <td>62</td>\n",
              "      <td>13</td>\n",
              "      <td>48</td>\n",
              "      <td>22.9</td>\n",
              "      <td>0.678</td>\n",
              "      <td>23</td>\n",
              "      <td>1</td>\n",
              "      <td>0</td>\n",
              "      <td>0.109660</td>\n",
              "    </tr>\n",
              "    <tr>\n",
              "      <th>3</th>\n",
              "      <td>1</td>\n",
              "      <td>91</td>\n",
              "      <td>64</td>\n",
              "      <td>24</td>\n",
              "      <td>0</td>\n",
              "      <td>29.2</td>\n",
              "      <td>0.192</td>\n",
              "      <td>21</td>\n",
              "      <td>0</td>\n",
              "      <td>0</td>\n",
              "      <td>0.055998</td>\n",
              "    </tr>\n",
              "    <tr>\n",
              "      <th>4</th>\n",
              "      <td>4</td>\n",
              "      <td>83</td>\n",
              "      <td>86</td>\n",
              "      <td>19</td>\n",
              "      <td>0</td>\n",
              "      <td>29.3</td>\n",
              "      <td>0.317</td>\n",
              "      <td>34</td>\n",
              "      <td>0</td>\n",
              "      <td>0</td>\n",
              "      <td>0.100491</td>\n",
              "    </tr>\n",
              "  </tbody>\n",
              "</table>\n",
              "</div>"
            ],
            "text/plain": [
              "   pregnant  glucose  diastolic  ...  class  scored.class  scored.probability\n",
              "0         7      124         70  ...      0             0            0.328452\n",
              "1         2      122         76  ...      0             0            0.273190\n",
              "2         3      107         62  ...      1             0            0.109660\n",
              "3         1       91         64  ...      0             0            0.055998\n",
              "4         4       83         86  ...      0             0            0.100491\n",
              "\n",
              "[5 rows x 11 columns]"
            ]
          },
          "metadata": {
            "tags": []
          },
          "execution_count": 11
        }
      ]
    },
    {
      "cell_type": "markdown",
      "metadata": {
        "id": "pZd4tXjWNKs5"
      },
      "source": [
        "Use Pandas’ `crosstab()` function to calculate the contents of a confusion matrix for the data. Do the rows and columns represent either the actual or the predicted classification?  \n",
        ">HINT: check the `value_counts()` for the dataframe columns you’ve used as input to the `crosstab()` function. Do the rows or columns in the crosstab() output sum to the respective `value_counts()` figures?\n"
      ]
    },
    {
      "cell_type": "markdown",
      "metadata": {
        "id": "Cv-CYMP-Q3JS"
      },
      "source": [
        "How many data points are we working with?"
      ]
    },
    {
      "cell_type": "code",
      "metadata": {
        "colab": {
          "base_uri": "https://localhost:8080/"
        },
        "id": "A0twar3fP6TJ",
        "outputId": "52f166a4-0e30-4b3a-d6ca-9d5466e80a04"
      },
      "source": [
        "rows = data_df.shape[0]\n",
        "print('Rows:',rows)"
      ],
      "execution_count": 12,
      "outputs": [
        {
          "output_type": "stream",
          "text": [
            "Rows: 181\n"
          ],
          "name": "stdout"
        }
      ]
    },
    {
      "cell_type": "markdown",
      "metadata": {
        "id": "nGM65PYNQ6gA"
      },
      "source": [
        "Are there any null values for which to account?"
      ]
    },
    {
      "cell_type": "code",
      "metadata": {
        "colab": {
          "base_uri": "https://localhost:8080/"
        },
        "id": "-tXVDDAhQokH",
        "outputId": "8c27c540-443f-4bed-df63-9785ad8197b6"
      },
      "source": [
        "nulls = data_df.isnull().sum()\n",
        "nulls"
      ],
      "execution_count": 13,
      "outputs": [
        {
          "output_type": "execute_result",
          "data": {
            "text/plain": [
              "pregnant              0\n",
              "glucose               0\n",
              "diastolic             0\n",
              "skinfold              0\n",
              "insulin               0\n",
              "bmi                   0\n",
              "pedigree              0\n",
              "age                   0\n",
              "class                 0\n",
              "scored.class          0\n",
              "scored.probability    0\n",
              "dtype: int64"
            ]
          },
          "metadata": {
            "tags": []
          },
          "execution_count": 13
        }
      ]
    },
    {
      "cell_type": "markdown",
      "metadata": {
        "id": "nRt3nnY4Q_UB"
      },
      "source": [
        "None."
      ]
    },
    {
      "cell_type": "markdown",
      "metadata": {
        "id": "rgm19IP7RGlN"
      },
      "source": [
        "A confusion matrix is made up of true and false positives and negatives.\n",
        "\n",
        "* **True**: accuratly predicted value (ie. predicted 1 for dataset value of 1)\n",
        "\n",
        "* **Positive**: 1 \n",
        "* **Negative**: 0  "
      ]
    },
    {
      "cell_type": "markdown",
      "metadata": {
        "id": "WaLxQQGuR2m_"
      },
      "source": [
        "Here is a confusion matrix using the `confusion_matrix` method:"
      ]
    },
    {
      "cell_type": "code",
      "metadata": {
        "colab": {
          "base_uri": "https://localhost:8080/",
          "height": 0
        },
        "id": "fKoRM2y2R6pV",
        "outputId": "71caf675-b46b-49b2-b220-b9dab04d6a47"
      },
      "source": [
        "y_actual = data_df['class'] \n",
        "y_predicted = data_df['scored.class']\n",
        "matrix = confusion_matrix(y_actual, y_predicted)\n",
        "\n",
        "pd.DataFrame(matrix, columns=[\"Predicted 0\",\"Predicted 1\",], index=[\"True 0\", \"True 1\"])"
      ],
      "execution_count": 14,
      "outputs": [
        {
          "output_type": "execute_result",
          "data": {
            "text/html": [
              "<div>\n",
              "<style scoped>\n",
              "    .dataframe tbody tr th:only-of-type {\n",
              "        vertical-align: middle;\n",
              "    }\n",
              "\n",
              "    .dataframe tbody tr th {\n",
              "        vertical-align: top;\n",
              "    }\n",
              "\n",
              "    .dataframe thead th {\n",
              "        text-align: right;\n",
              "    }\n",
              "</style>\n",
              "<table border=\"1\" class=\"dataframe\">\n",
              "  <thead>\n",
              "    <tr style=\"text-align: right;\">\n",
              "      <th></th>\n",
              "      <th>Predicted 0</th>\n",
              "      <th>Predicted 1</th>\n",
              "    </tr>\n",
              "  </thead>\n",
              "  <tbody>\n",
              "    <tr>\n",
              "      <th>True 0</th>\n",
              "      <td>119</td>\n",
              "      <td>5</td>\n",
              "    </tr>\n",
              "    <tr>\n",
              "      <th>True 1</th>\n",
              "      <td>30</td>\n",
              "      <td>27</td>\n",
              "    </tr>\n",
              "  </tbody>\n",
              "</table>\n",
              "</div>"
            ],
            "text/plain": [
              "        Predicted 0  Predicted 1\n",
              "True 0          119            5\n",
              "True 1           30           27"
            ]
          },
          "metadata": {
            "tags": []
          },
          "execution_count": 14
        }
      ]
    },
    {
      "cell_type": "markdown",
      "metadata": {
        "id": "AKf4CQHBT1Q8"
      },
      "source": [
        "There are 119 accurate predictions of `0` and 27 accurate predictions of `1`. \n",
        "\n",
        "30 predictions of `0` are inaccurate (that is a fair amount), and 5 predictions of `1` are inaccurate. \n",
        "\n",
        "* 119 true negatives\n",
        "* 5 false positives\n",
        "* 30 false negatives \n",
        "* 27 true positives\n"
      ]
    },
    {
      "cell_type": "markdown",
      "metadata": {
        "id": "UlTFmpPoTPy6"
      },
      "source": [
        "Here is the matrix using the `crosstab()` method:"
      ]
    },
    {
      "cell_type": "code",
      "metadata": {
        "colab": {
          "base_uri": "https://localhost:8080/",
          "height": 0
        },
        "id": "3YoVOqGYTTOF",
        "outputId": "289719fa-88a7-497d-b54d-03b270d54faf"
      },
      "source": [
        "pd.crosstab(y_actual, y_predicted, margins=True, margins_name=\"Total\", dropna=False)"
      ],
      "execution_count": 15,
      "outputs": [
        {
          "output_type": "execute_result",
          "data": {
            "text/html": [
              "<div>\n",
              "<style scoped>\n",
              "    .dataframe tbody tr th:only-of-type {\n",
              "        vertical-align: middle;\n",
              "    }\n",
              "\n",
              "    .dataframe tbody tr th {\n",
              "        vertical-align: top;\n",
              "    }\n",
              "\n",
              "    .dataframe thead th {\n",
              "        text-align: right;\n",
              "    }\n",
              "</style>\n",
              "<table border=\"1\" class=\"dataframe\">\n",
              "  <thead>\n",
              "    <tr style=\"text-align: right;\">\n",
              "      <th>scored.class</th>\n",
              "      <th>0</th>\n",
              "      <th>1</th>\n",
              "      <th>Total</th>\n",
              "    </tr>\n",
              "    <tr>\n",
              "      <th>class</th>\n",
              "      <th></th>\n",
              "      <th></th>\n",
              "      <th></th>\n",
              "    </tr>\n",
              "  </thead>\n",
              "  <tbody>\n",
              "    <tr>\n",
              "      <th>0</th>\n",
              "      <td>119</td>\n",
              "      <td>5</td>\n",
              "      <td>124</td>\n",
              "    </tr>\n",
              "    <tr>\n",
              "      <th>1</th>\n",
              "      <td>30</td>\n",
              "      <td>27</td>\n",
              "      <td>57</td>\n",
              "    </tr>\n",
              "    <tr>\n",
              "      <th>Total</th>\n",
              "      <td>149</td>\n",
              "      <td>32</td>\n",
              "      <td>181</td>\n",
              "    </tr>\n",
              "  </tbody>\n",
              "</table>\n",
              "</div>"
            ],
            "text/plain": [
              "scored.class    0   1  Total\n",
              "class                       \n",
              "0             119   5    124\n",
              "1              30  27     57\n",
              "Total         149  32    181"
            ]
          },
          "metadata": {
            "tags": []
          },
          "execution_count": 15
        }
      ]
    },
    {
      "cell_type": "markdown",
      "metadata": {
        "id": "3gV_NLOcUkBP"
      },
      "source": [
        "This method adds the rows column details. The sum of either the columns or the rows will add to the total number of observations: **181**. From the output of confusion matrix we know that the **rows** represent the *actual* classifications and the **columns** represent the *predicted* classifications. \n",
        "\n",
        "Hence the total number of the *actual* classifications of 0 is **124** and of 1 is **57**. \n",
        "\n",
        "There were **149** *predicted* 0 and **32** predicted 1 values.\n",
        "\n",
        ">Note that even the diagonals add to 181:\n",
        ">\n",
        ">119+27=**146** accurate predictions, and 30+5=**35** innaccurate. 146+35=**181**."
      ]
    },
    {
      "cell_type": "markdown",
      "metadata": {
        "id": "MBfkHtquYtW9"
      },
      "source": [
        "The actual and predicted observations could also be counted using `value_counts`:"
      ]
    },
    {
      "cell_type": "code",
      "metadata": {
        "colab": {
          "base_uri": "https://localhost:8080/",
          "height": 0
        },
        "id": "_aF34-w6aS1C",
        "outputId": "2bc917b8-ef09-4570-bd07-5167dfa36b9a"
      },
      "source": [
        "data_df['class'].value_counts().rename_axis('Actual').to_frame('Observations') "
      ],
      "execution_count": 16,
      "outputs": [
        {
          "output_type": "execute_result",
          "data": {
            "text/html": [
              "<div>\n",
              "<style scoped>\n",
              "    .dataframe tbody tr th:only-of-type {\n",
              "        vertical-align: middle;\n",
              "    }\n",
              "\n",
              "    .dataframe tbody tr th {\n",
              "        vertical-align: top;\n",
              "    }\n",
              "\n",
              "    .dataframe thead th {\n",
              "        text-align: right;\n",
              "    }\n",
              "</style>\n",
              "<table border=\"1\" class=\"dataframe\">\n",
              "  <thead>\n",
              "    <tr style=\"text-align: right;\">\n",
              "      <th></th>\n",
              "      <th>Observations</th>\n",
              "    </tr>\n",
              "    <tr>\n",
              "      <th>Actual</th>\n",
              "      <th></th>\n",
              "    </tr>\n",
              "  </thead>\n",
              "  <tbody>\n",
              "    <tr>\n",
              "      <th>0</th>\n",
              "      <td>124</td>\n",
              "    </tr>\n",
              "    <tr>\n",
              "      <th>1</th>\n",
              "      <td>57</td>\n",
              "    </tr>\n",
              "  </tbody>\n",
              "</table>\n",
              "</div>"
            ],
            "text/plain": [
              "        Observations\n",
              "Actual              \n",
              "0                124\n",
              "1                 57"
            ]
          },
          "metadata": {
            "tags": []
          },
          "execution_count": 16
        }
      ]
    },
    {
      "cell_type": "code",
      "metadata": {
        "colab": {
          "base_uri": "https://localhost:8080/",
          "height": 0
        },
        "id": "1zctCI5mabvq",
        "outputId": "a04dd052-ac10-4545-d57f-9c831877e11f"
      },
      "source": [
        "data_df['scored.class'].value_counts().rename_axis('Predicted').to_frame('Observations')"
      ],
      "execution_count": 17,
      "outputs": [
        {
          "output_type": "execute_result",
          "data": {
            "text/html": [
              "<div>\n",
              "<style scoped>\n",
              "    .dataframe tbody tr th:only-of-type {\n",
              "        vertical-align: middle;\n",
              "    }\n",
              "\n",
              "    .dataframe tbody tr th {\n",
              "        vertical-align: top;\n",
              "    }\n",
              "\n",
              "    .dataframe thead th {\n",
              "        text-align: right;\n",
              "    }\n",
              "</style>\n",
              "<table border=\"1\" class=\"dataframe\">\n",
              "  <thead>\n",
              "    <tr style=\"text-align: right;\">\n",
              "      <th></th>\n",
              "      <th>Observations</th>\n",
              "    </tr>\n",
              "    <tr>\n",
              "      <th>Predicted</th>\n",
              "      <th></th>\n",
              "    </tr>\n",
              "  </thead>\n",
              "  <tbody>\n",
              "    <tr>\n",
              "      <th>0</th>\n",
              "      <td>149</td>\n",
              "    </tr>\n",
              "    <tr>\n",
              "      <th>1</th>\n",
              "      <td>32</td>\n",
              "    </tr>\n",
              "  </tbody>\n",
              "</table>\n",
              "</div>"
            ],
            "text/plain": [
              "           Observations\n",
              "Predicted              \n",
              "0                   149\n",
              "1                    32"
            ]
          },
          "metadata": {
            "tags": []
          },
          "execution_count": 17
        }
      ]
    },
    {
      "cell_type": "markdown",
      "metadata": {
        "id": "iEtIqKxsawBA"
      },
      "source": [
        "The data evidently parallels the margins in the `crosstab()` method.\n",
        ">Note: these lines were not constructed as a method in order to maintain the automatic graph display.\n"
      ]
    },
    {
      "cell_type": "markdown",
      "metadata": {
        "id": "WdanwS6qQy0S"
      },
      "source": [
        "Part 3: Extracting Matrix Values\n",
        "=="
      ]
    },
    {
      "cell_type": "markdown",
      "metadata": {
        "id": "h-qGSryjREZR"
      },
      "source": [
        "Here the individual confusion matrix values (True Positive, False Positive, True Negative, False Negative) are extracted from the output of the `crosstab()` function and save them for later use. "
      ]
    },
    {
      "cell_type": "code",
      "metadata": {
        "colab": {
          "base_uri": "https://localhost:8080/",
          "height": 0
        },
        "id": "8Od5QGn0RElP",
        "outputId": "8a9f8444-592a-4a33-b6d6-3d87b89e5894"
      },
      "source": [
        "def getConfusionMatrixValues(y_actual, y_predicted):\n",
        "  tp = ((y_actual == 1) & (y_actual == y_predicted)).sum()  \n",
        "  tn = ((y_actual == 0) & (y_actual == y_predicted)).sum() \n",
        "  \n",
        "  fp = ((y_actual == 0) & (y_actual != y_predicted)).sum()  \n",
        "  fn = ((y_actual == 1) & (y_actual != y_predicted)).sum()  \n",
        "  return tp, tn, fp, fn\n",
        "\n",
        "TP,TN,FP,FN = getConfusionMatrixValues(y_actual, y_predicted)\n",
        "matrix_df = pd.DataFrame({'Confusion Matrix':['True Negative', 'True Positive','False Negative','False Positive'], 'Count': [TN,TP,FN,FP]})\n",
        "matrix_df"
      ],
      "execution_count": 18,
      "outputs": [
        {
          "output_type": "execute_result",
          "data": {
            "text/html": [
              "<div>\n",
              "<style scoped>\n",
              "    .dataframe tbody tr th:only-of-type {\n",
              "        vertical-align: middle;\n",
              "    }\n",
              "\n",
              "    .dataframe tbody tr th {\n",
              "        vertical-align: top;\n",
              "    }\n",
              "\n",
              "    .dataframe thead th {\n",
              "        text-align: right;\n",
              "    }\n",
              "</style>\n",
              "<table border=\"1\" class=\"dataframe\">\n",
              "  <thead>\n",
              "    <tr style=\"text-align: right;\">\n",
              "      <th></th>\n",
              "      <th>Confusion Matrix</th>\n",
              "      <th>Count</th>\n",
              "    </tr>\n",
              "  </thead>\n",
              "  <tbody>\n",
              "    <tr>\n",
              "      <th>0</th>\n",
              "      <td>True Negative</td>\n",
              "      <td>119</td>\n",
              "    </tr>\n",
              "    <tr>\n",
              "      <th>1</th>\n",
              "      <td>True Positive</td>\n",
              "      <td>27</td>\n",
              "    </tr>\n",
              "    <tr>\n",
              "      <th>2</th>\n",
              "      <td>False Negative</td>\n",
              "      <td>30</td>\n",
              "    </tr>\n",
              "    <tr>\n",
              "      <th>3</th>\n",
              "      <td>False Positive</td>\n",
              "      <td>5</td>\n",
              "    </tr>\n",
              "  </tbody>\n",
              "</table>\n",
              "</div>"
            ],
            "text/plain": [
              "  Confusion Matrix  Count\n",
              "0    True Negative    119\n",
              "1    True Positive     27\n",
              "2   False Negative     30\n",
              "3   False Positive      5"
            ]
          },
          "metadata": {
            "tags": []
          },
          "execution_count": 18
        }
      ]
    },
    {
      "cell_type": "markdown",
      "metadata": {
        "id": "dwhsvQSVQ9jm"
      },
      "source": [
        "Part 4: Manually Calculating Metrics   \n",
        "=="
      ]
    },
    {
      "cell_type": "markdown",
      "metadata": {
        "id": "m5jQKcOvRFDC"
      },
      "source": [
        "Here is a Python function that accepts as input the actual and predicted classifications for any binary classification data, then calculates and returns the `accuracy` metric for the predictions __without__ utilizing any pre-built Python accuracy metric calculation functions. The same for `precision`, `sensitivity`, `specificity`, and `F1_score`. See [here](https://medium.com/@MohammedS/performance-metrics-for-classification-problems-in-machine-learning-part-i-b085d432082b) for details.\n"
      ]
    },
    {
      "cell_type": "code",
      "metadata": {
        "id": "6d71iU_6RFNh"
      },
      "source": [
        "def calcAccuracy(tp,tn,fp,fn): #percent of accurate (true) predictions\n",
        "  return (tp + tn) / (tp + tn + fp + fn)\n",
        "\n",
        "def calcRecall(tp,fn): #percent of positives accurately predicted \n",
        "  return tp / (tp + fn)\n",
        "\n",
        "def calcPrecision(tp,fp): #percent of positives predicted \n",
        "  return tp / (tp + fp)\n",
        "\n",
        "def calcSpecificity(tn,fp): #percent of negatives accurately predicted \n",
        " return tn / (tn + fp)\n",
        "\n",
        "def calcF1(tp,fp,fn): #harmonic mean between precision and recall\n",
        "  pre = calcPrecision(tp,fp)\n",
        "  rec = calcRecall(tp,fn)\n",
        "  return (2 * pre * rec) / (pre + rec)"
      ],
      "execution_count": 19,
      "outputs": []
    },
    {
      "cell_type": "code",
      "metadata": {
        "colab": {
          "base_uri": "https://localhost:8080/"
        },
        "id": "oyQpM9lGm58_",
        "outputId": "32c60766-af3e-4cc8-da61-3849ab93f0ff"
      },
      "source": [
        "def getManualStatistics():\n",
        "  tp, tn, fp, fn = getConfusionMatrixValues(y_actual, y_predicted) \n",
        "\n",
        "  acc = calcAccuracy(tp,tn,fp,fn)\n",
        "  rec = calcRecall(tp,fn)\n",
        "  pre = calcPrecision(tp,fp) \n",
        "  spe = calcSpecificity(tn,fn) \n",
        "  f1  = calcF1(tp,fp,fn)\n",
        "  return acc, rec, pre, spe, f1\n",
        "\n",
        "def getBuiltinStatistics(actual, predicted):\n",
        "  accuracy = accuracy_score(actual,predicted)\n",
        "  recall = recall_score(actual,predicted)\n",
        "  precision = precision_score(actual,predicted)\n",
        "  specificity = recall_score(predicted,actual,pos_label=0)\n",
        "  f1 = f1_score(actual,predicted)\n",
        "  return accuracy, recall, precision, specificity, f1\n",
        "\n",
        "def displayResults():\n",
        "  acc, rec, pre, spe, f1 = getManualStatistics()\n",
        "  accuracy, recall, precision, specificity, f1_actual = getBuiltinStatistics(y_actual,y_predicted)\n",
        "    \n",
        "  displaySpecificRes('Accuracy',acc,accuracy)\n",
        "  displaySpecificRes('Recall',rec,recall)\n",
        "  displaySpecificRes('Precision',pre,precision)\n",
        "  displaySpecificRes('Specificity',spe,specificity)\n",
        "  displaySpecificRes('F1',f1,f1_actual)\n",
        "\n",
        "def displaySpecificRes(stat,manual,builtin):\n",
        "  print(f'Manual {stat:<13}  {manual}\\nBuilt-in {stat:<12} {builtin}\\n')\n",
        "  \n",
        "displayResults()"
      ],
      "execution_count": 20,
      "outputs": [
        {
          "output_type": "stream",
          "text": [
            "Manual Accuracy       0.8066298342541437\n",
            "Built-in Accuracy     0.8066298342541437\n",
            "\n",
            "Manual Recall         0.47368421052631576\n",
            "Built-in Recall       0.47368421052631576\n",
            "\n",
            "Manual Precision      0.84375\n",
            "Built-in Precision    0.84375\n",
            "\n",
            "Manual Specificity    0.7986577181208053\n",
            "Built-in Specificity  0.7986577181208053\n",
            "\n",
            "Manual F1             0.6067415730337079\n",
            "Built-in F1           0.6067415730337079\n",
            "\n"
          ],
          "name": "stdout"
        }
      ]
    },
    {
      "cell_type": "markdown",
      "metadata": {
        "id": "9FNU3VEHwUJ2"
      },
      "source": [
        "Thankfully, all the manual calcualtions match the built-in calculations."
      ]
    },
    {
      "cell_type": "markdown",
      "metadata": {
        "id": "hGcATjcTQ-wG"
      },
      "source": [
        "Part 5: Manually Calculating ROC Curve, AUC, and Probabilities\n",
        "=="
      ]
    },
    {
      "cell_type": "markdown",
      "metadata": {
        "id": "7XDnMXUbRF8Z"
      },
      "source": [
        "Here is a Python function to manually plot a ROC curve, and the AUC for both the binary classifications and their probabilities (without utilizing the pre-built Python classification metric functions).\n",
        "\n",
        "**Receiver Operating Characteristic** (ROC): displays the false positive rate (probability of prediction=1 and true value=0) on the X-axis, against the true positive rate (probability of prediction=1 and true value=1) on Y-axis. Ideally, the curve will climb quickly toward the top-left meaning the model correctly predicted the cases. Used to compare classification models. \n",
        "\n",
        "**Area Under the Curve** (AUC): definite integral, the area under thae graph; calculated by `Numpy` using the \"trapezoidal rule\". See [here](https://en.wikipedia.org/wiki/Trapezoidal_rule) for details."
      ]
    },
    {
      "cell_type": "code",
      "metadata": {
        "id": "wyfiG-oWME2L"
      },
      "source": [
        "def roc(actual, predicted):\n",
        "  tp = 0\n",
        "  fp = 0\n",
        "  tn = 0\n",
        "  fn = 0\n",
        "  predicted = pd.Series(predicted, index = actual.index)\n",
        "\n",
        "  for i in actual.index:\n",
        "    if actual[i] == predicted[i] == 1:\n",
        "      tp += 1\n",
        "    if actual[i] == predicted[i] == 0:\n",
        "      tn += 1\n",
        "    if predicted[i] == 1 and predicted[i] != actual[i]:\n",
        "      fp += 1\n",
        "    if predicted[i] == 0 and predicted[i] != actual[i]:\n",
        "      fn += 1\n",
        "  return calcRecall(tp,fn), (fp / (fp + tn)) #fp = 1 - tn, and tn is the numerator for \"specificity\"\n",
        "\n",
        "def calcROC(data_df):\n",
        "  tp_rates=[]\n",
        "  fp_rates=[]\n",
        "  probability_thresholds = np.linspace(0,1,num=data_df.shape[0])\n",
        "  \n",
        "  y_actual = data_df['class']\n",
        "  y_probabilities = data_df['scored.probability']\n",
        "\n",
        "  for prob in probability_thresholds:\n",
        "    y_predicted = []\n",
        "    for yp in y_probabilities:\n",
        "      y_predicted.append(1 if yp > prob else 0)\n",
        "              \n",
        "    tp_rate, fp_rate = roc(y_actual, y_predicted)\n",
        "    tp_rates.append(tp_rate)\n",
        "    fp_rates.append(fp_rate)\n",
        "\n",
        "  return tp_rates, fp_rates"
      ],
      "execution_count": 23,
      "outputs": []
    },
    {
      "cell_type": "code",
      "metadata": {
        "colab": {
          "base_uri": "https://localhost:8080/",
          "height": 349
        },
        "id": "jtKUx3O9dT83",
        "outputId": "d66c3758-51e3-462d-80a8-4620be882cb9"
      },
      "source": [
        "def displayROC(x,y,title,auc):\n",
        "  plt.plot(x,y, label = \"ROC AUC: %0.3f\" % auc)\n",
        "  plt.plot([0, 1],[0, 1], 'r--', label = \"Naive Classifier\") #random classifier\n",
        "\n",
        "  plt.xlabel('False Positive Rate')\n",
        "  plt.ylabel('True Positive Rate')\n",
        "  plt.title('ROC Curve - ' + title)\n",
        "  plt.legend()\n",
        "\n",
        "def calcAUC(true_p, false_p):\n",
        "  true_p.sort()\n",
        "  false_p.sort()\n",
        "  return np.trapz(true_p,false_p) #trapz for \"trapezoidal rule\"\n",
        "\n",
        "fig, ax = plt.subplots(figsize=(18,5))\n",
        "y_probabilities = data_df['scored.probability']\n",
        "\n",
        "plt.subplot(1,2,1)\n",
        "true_positives, false_positives = calcROC(data_df)\n",
        "auc = calcAUC(true_positives, false_positives)\n",
        "displayROC(false_positives,true_positives,'Manual',auc)\n",
        "\n",
        "plt.subplot(1,2,2)\n",
        "fp, tp, thresholds = roc_curve(y_actual, y_probabilities)\n",
        "auc = roc_auc_score(y_actual, y_probabilities)\n",
        "displayROC(fp,tp,'Built-in',auc)\n",
        "\n",
        "plt.show()"
      ],
      "execution_count": 35,
      "outputs": [
        {
          "output_type": "display_data",
          "data": {
            "image/png": "[encoded data removed]",
            "text/plain": [
              "<Figure size 1296x360 with 2 Axes>"
            ]
          },
          "metadata": {
            "tags": [],
            "needs_background": "light"
          }
        }
      ]
    },
    {
      "cell_type": "markdown",
      "metadata": {
        "id": "fgfnH3VAQ_4o"
      },
      "source": [
        "Conclusion\n",
        "=="
      ]
    },
    {
      "cell_type": "markdown",
      "metadata": {
        "id": "hMlGNOejRGvr"
      },
      "source": [
        "We have a large area under the curve, rising rapidly, as displayed in the above charts. The manual accuracy metrics thankfully produce identical results as the Python libraries. \n",
        "\n",
        "The model seems to predict a fair percent of true positives (90%) with many less false negatives (50%)."
      ]
    }
  ]
}