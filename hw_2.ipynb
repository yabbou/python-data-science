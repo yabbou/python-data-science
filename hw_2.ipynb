{
  "nbformat": 4,
  "nbformat_minor": 0,
  "metadata": {
    "colab": {
      "name": "hw 2.ipynb",
      "provenance": [],
      "collapsed_sections": [],
      "authorship_tag": "ABX9TyOEXnZ5R4+H6b+OVNe64HSK",
      "include_colab_link": true
    },
    "kernelspec": {
      "name": "python3",
      "display_name": "Python 3"
    }
  },
  "cells": [
    {
      "cell_type": "markdown",
      "metadata": {
        "id": "view-in-github",
        "colab_type": "text"
      },
      "source": [
        "<a href=\"https://colab.research.google.com/github/yabbou/python-data-science/blob/main/hw_2.ipynb\" target=\"_parent\"><img src=\"https://colab.research.google.com/assets/colab-badge.svg\" alt=\"Open In Colab\"/></a>"
      ]
    },
    {
      "cell_type": "markdown",
      "metadata": {
        "id": "yM7mX-4M9ipV"
      },
      "source": [
        "**Q1**:\r\n",
        "Write a program that will ask the user to **enter** the amount of a purchase. The\r\n",
        "program should then **compute** the state and county sales tax. Assume the state\r\n",
        "sales tax is 5 percent and the county sales tax is 2.5 percent. The program\r\n",
        "should **display** the amount of the purchase, the state sales tax, the county sales\r\n",
        "tax, the total sales tax, and the total of the sale (which is the sum of the amount\r\n",
        "of purchase plus the total sales tax)."
      ]
    },
    {
      "cell_type": "code",
      "metadata": {
        "colab": {
          "base_uri": "https://localhost:8080/"
        },
        "id": "RzU6XrWT90AG",
        "outputId": "dc10eedc-bb1e-4d50-9fb9-c07e45afc110"
      },
      "source": [
        "amount = int(input('Please enter purchase amount: '))\r\n",
        "\r\n",
        "STATE_TAX = .05\r\n",
        "COUNTY_TAX = .025\r\n",
        "amount_after_tax = amount * (1 + STATE_TAX + COUNTY_TAX)\r\n",
        "\r\n",
        "def displayPurchaseInfo():\r\n",
        "  print(f'''\r\n",
        "  Purchase amount: ${amount}\\n\r\n",
        "  State tax: {STATE_TAX}%\\n\r\n",
        "  County tax: {COUNTY_TAX}%\\n\r\n",
        "  Total amount: ${amount_after_tax}\\n''')\r\n",
        "displayPurchaseInfo()"
      ],
      "execution_count": null,
      "outputs": [
        {
          "output_type": "stream",
          "text": [
            "Please enter purchase amount: 613\n",
            "\n",
            "  Purchase amount: $613\n",
            "\n",
            "  State tax: 0.05%\n",
            "\n",
            "  County tax: 0.025%\n",
            "\n",
            "  Total amount: $658.975\n",
            "\n"
          ],
          "name": "stdout"
        }
      ]
    },
    {
      "cell_type": "markdown",
      "metadata": {
        "id": "NWa_kw4PH6dM"
      },
      "source": [
        "Q2: Running on a particular treadmill you burn 4.2 calories per minute. Write a\r\n",
        "program that uses a loop to display the number of calories burned after 10, 15,\r\n",
        "20, 25, and 30 minutes."
      ]
    },
    {
      "cell_type": "code",
      "metadata": {
        "colab": {
          "base_uri": "https://localhost:8080/"
        },
        "id": "u19Du2Y-H95F",
        "outputId": "0e1be590-0983-4b73-eafa-c6570ada3c85"
      },
      "source": [
        "CALORIES_PER_MINUTE = 4.2\r\n",
        "\r\n",
        "for min in range(10,35,5):\r\n",
        "  print(f'{CALORIES_PER_MINUTE*min}\\t calories burnt in {min} minutes.')"
      ],
      "execution_count": null,
      "outputs": [
        {
          "output_type": "stream",
          "text": [
            "42.0\t calories burnt in 10 minutes.\n",
            "63.0\t calories burnt in 15 minutes.\n",
            "84.0\t calories burnt in 20 minutes.\n",
            "105.0\t calories burnt in 25 minutes.\n",
            "126.0\t calories burnt in 30 minutes.\n"
          ],
          "name": "stdout"
        }
      ]
    },
    {
      "cell_type": "markdown",
      "metadata": {
        "id": "QDI7Ds_QIqw_"
      },
      "source": [
        "Q3: At one college, the tuition for a full-time student is $8,000 per semester. It has\r\n",
        "been announced that the tuition will increase by 3 percent each year for the next\r\n",
        "5 years. Write a program with a loop that displays the projected semester tuition\r\n",
        "amount for the next 5 years."
      ]
    },
    {
      "cell_type": "code",
      "metadata": {
        "colab": {
          "base_uri": "https://localhost:8080/"
        },
        "id": "XUfaKluhIvBm",
        "outputId": "3c692128-491f-4e21-a583-d2572fc8af87"
      },
      "source": [
        "tuition = 8_000\r\n",
        "TUITION_INCREASE = 1.03\r\n",
        "YEARS = 5\r\n",
        "for year in range(1,YEARS+1):\r\n",
        "  tuition *= TUITION_INCREASE\r\n",
        "  print(f'Expected tution in {year} years: ${tuition:,.2f}.')"
      ],
      "execution_count": null,
      "outputs": [
        {
          "output_type": "stream",
          "text": [
            "Expected tution in 1 years: $8,240.00.\n",
            "Expected tution in 2 years: $8,487.20.\n",
            "Expected tution in 3 years: $8,741.82.\n",
            "Expected tution in 4 years: $9,004.07.\n",
            "Expected tution in 5 years: $9,274.19.\n"
          ],
          "name": "stdout"
        }
      ]
    },
    {
      "cell_type": "markdown",
      "metadata": {
        "id": "Lw5DriIXKVqp"
      },
      "source": [
        "Q4: Many financial experts advise that property owners should insure their homes or\r\n",
        "buildings for at least 80 percent of the amount it would cost to replace the\r\n",
        "structure. Write a program that asks the user to enter the replacement cost of a\r\n",
        "building, then displays the minimum amount of insurance he or she should buy\r\n",
        "for the property."
      ]
    },
    {
      "cell_type": "code",
      "metadata": {
        "colab": {
          "base_uri": "https://localhost:8080/"
        },
        "id": "8LG194M0KkPT",
        "outputId": "9821906c-9185-4f14-a926-2f531a9f3c09"
      },
      "source": [
        "INSURANCE_PERCENT = 0.80\r\n",
        "replacement_cost = int(input('What is the replacement cost of your structure? '))\r\n",
        "insurance_cost  = input('Insurance? y/n ')\r\n",
        "\r\n",
        "def displayRecommendedInsurance():\r\n",
        "  if insurance_cost.lower() == 'y':\r\n",
        "    print(f'Recommended insurance: ${replacement_cost * INSURANCE_PERCENT:,.2f}')\r\n",
        "\r\n",
        "displayRecommendedInsurance()"
      ],
      "execution_count": null,
      "outputs": [
        {
          "output_type": "stream",
          "text": [
            "What is the replacement cost of your structure?613\n",
            "Insurance? y/ny\n",
            "Recommended insurance: $490.40\n"
          ],
          "name": "stdout"
        }
      ]
    },
    {
      "cell_type": "markdown",
      "metadata": {
        "id": "iiXyWPNNNBUL"
      },
      "source": [
        "Q5: A county collects **property taxes** on the assessment value of property, which is **60 percent of the property’s actual value**. \r\n",
        "\r\n",
        "For example, if an acre of land is valued at \\$10,000, \r\n",
        "\r\n",
        "*   its **assessment value** is \\$6,000\r\n",
        "*   the **property tax** is then 72¢ for each \\$100 of the assessment value. The tax for the acre assessed at 6,000 will be $43.20. \r\n",
        "\r\n",
        "Write a program that asks for the actual value of a piece of property and displays the assessment value and property tax"
      ]
    },
    {
      "cell_type": "code",
      "metadata": {
        "colab": {
          "base_uri": "https://localhost:8080/"
        },
        "id": "bFBpLe7nOLmR",
        "outputId": "38a811cf-20c4-451f-e8c0-a234f78af21b"
      },
      "source": [
        "ASSESSMENT_VALUE = 0.60\r\n",
        "PROPERTY_TAX = 0.0072\r\n",
        "property_value = int(input('What is the value of your land? '))\r\n",
        "\r\n",
        "def displayLandInfo():\r\n",
        "  print(f'Land value: \\t\\t${property_value:,.2f}')\r\n",
        "  assessed_value = property_value * ASSESSMENT_VALUE\r\n",
        "  print(f'Assessment value: \\t${assessed_value:,.2f}')\r\n",
        "  print(f'Property tax: \\t\\t${assessed_value * PROPERTY_TAX:,.2f}')\r\n",
        "displayLandInfo()"
      ],
      "execution_count": null,
      "outputs": [
        {
          "output_type": "stream",
          "text": [
            "What is the value of your land? 613\n",
            "Land value: \t\t$613.00\n",
            "Assessment value: \t$367.80\n",
            "Property tax: \t\t$2.65\n"
          ],
          "name": "stdout"
        }
      ]
    },
    {
      "cell_type": "markdown",
      "metadata": {
        "id": "eC47bUSmSsg_"
      },
      "source": [
        "Q6: Write a program that generates 100 random numbers and keeps a count of how\r\n",
        "many of those random numbers are even, and how many of them are odd."
      ]
    },
    {
      "cell_type": "code",
      "metadata": {
        "colab": {
          "base_uri": "https://localhost:8080/"
        },
        "id": "QoBNiyyV4SJC",
        "outputId": "99551d50-ed1c-4cbb-d49a-265af1dd72b7"
      },
      "source": [
        "import random\r\n",
        "\r\n",
        "TOTAL = 100\r\n",
        "odds = len([x for x in range(1,TOTAL+1) if random.randint(0,TOTAL) % 2 == 0 ])\r\n",
        "print(f'Odd numbers: {odds}')\r\n",
        "print(f'Even numbers: {TOTAL-odds}')"
      ],
      "execution_count": null,
      "outputs": [
        {
          "output_type": "stream",
          "text": [
            "Odd numbers: 41\n",
            "Even numbers: 59\n"
          ],
          "name": "stdout"
        }
      ]
    },
    {
      "cell_type": "markdown",
      "metadata": {
        "id": "2eVWo6zb_ZRN"
      },
      "source": [
        "Q7: Write a program that lets the user play the game of Rock, Paper, Scissors\r\n",
        "against the computer. The program should work as follows:\r\n",
        "\r\n",
        "1.   When the program begins, a random number in the range of 1 through 3 is\r\n",
        "generated. If the number is 1, then the computer has chosen rock. If the\r\n",
        "number is 2, then the computer has chosen paper. If the number is 3, then\r\n",
        "the computer has chosen scissors. (Don’t display the computer’s choice\r\n",
        "yet.)\r\n",
        "\r\n",
        "2. The user enters his or her choice of “rock,” “paper,” or “scissors” at the\r\n",
        "keyboard.\r\n",
        "3. The computer’s choice is displayed.\r\n",
        "4. A winner is selected according to the following rules:\r\n",
        "* i. If one player chooses rock and the other player chooses scissors,\r\n",
        "then rock wins. (Rock smashes scissors.)\r\n",
        "* ii. If one player chooses scissors and the other player chooses paper,\r\n",
        "then scissors wins. (Scissors cuts paper.)\r\n",
        "* iii. If one player chooses paper and the other player chooses rock,\r\n",
        "then paper wins. (Paper wraps rock.)\r\n",
        "* iv. If both players make the same choice, the game must be played\r\n",
        "again to determine the winner.\r\n"
      ]
    },
    {
      "cell_type": "code",
      "metadata": {
        "id": "Ea_LPNyXJxBe",
        "colab": {
          "base_uri": "https://localhost:8080/"
        },
        "outputId": "5e64a217-eefa-4660-dc4e-eeab00769d79"
      },
      "source": [
        "import random as rand\r\n",
        "import enum\r\n",
        "\r\n",
        "class Game(enum.Enum):\r\n",
        "   Rock = 1\r\n",
        "   Paper = 2\r\n",
        "   Scissors = 3\r\n",
        "\r\n",
        "def getComputerChoice():\r\n",
        "  return rand.choice(list(Game))\r\n",
        "\r\n",
        "def calculateWinner(user,computer):\r\n",
        "  user = convertChoice(user)\r\n",
        "  print('Computer: ',computer)\r\n",
        "\r\n",
        "  if isWinner(user,computer):\r\n",
        "    print('User wins!')\r\n",
        "  elif isWinner(computer,user):\r\n",
        "    print('Computer wins!')\r\n",
        "  else:\r\n",
        "    playGame()\r\n",
        "\r\n",
        "def isWinner(player_1,player_2):\r\n",
        "  return ((player_1 == Game.Rock and player_2 == Game.Scissors)\r\n",
        "    or (player_1 == Game.Paper and player_2 == Game.Rock)\r\n",
        "    or (player_1 == Game.Scissors and player_2 == Game.Paper))\r\n",
        "\r\n",
        "def convertChoice(user):\r\n",
        "  game_options = {\r\n",
        "      'rock': Game.Rock,\r\n",
        "      'paper': Game.Paper,\r\n",
        "      'scissors': Game.Scissors,\r\n",
        "  }\r\n",
        "  return game_options.get(user,'Invalid user choice')\r\n",
        "\r\n",
        "def playGame():\r\n",
        "  user = input('Rock? Paper? or Scissors? ').lower()\r\n",
        "  calculateWinner(user,getComputerChoice())\r\n",
        "playGame()"
      ],
      "execution_count": 55,
      "outputs": [
        {
          "output_type": "stream",
          "text": [
            "Rock? Paper? or Scissors? rock\n",
            "Computer:  Game.Scissors\n",
            "User wins!\n"
          ],
          "name": "stdout"
        }
      ]
    },
    {
      "cell_type": "markdown",
      "metadata": {
        "id": "wX3RYeONJx5o"
      },
      "source": [
        "Q8: In a program, write a function that accepts two arguments: a list, and a number n.\r\n",
        "Assume that the list contains numbers. The function should display all of the\r\n",
        "numbers in the list that are greater than the number n."
      ]
    },
    {
      "cell_type": "code",
      "metadata": {
        "colab": {
          "base_uri": "https://localhost:8080/"
        },
        "id": "LboYynsIJ7T3",
        "outputId": "c02adfe0-8ab0-4a26-deb5-aa27fb71d003"
      },
      "source": [
        "import random \r\n",
        "def displayListNumsGreaterThan(list_, n):\r\n",
        "  print('num: ',n)\r\n",
        "  print('list: ',list_)\r\n",
        "  print('greater value elements: ',[x for x in list_ if x>n])\r\n",
        "\r\n",
        "MAX =100\r\n",
        "MIN =1\r\n",
        "SIZE =20\r\n",
        "displayListNumsGreaterThan(random.sample(range(MIN,MAX), SIZE),random.randint(MIN,MAX))"
      ],
      "execution_count": null,
      "outputs": [
        {
          "output_type": "stream",
          "text": [
            "num:  87\n",
            "list:  [91, 4, 75, 89, 28, 68, 71, 1, 9, 18, 45, 29, 36, 26, 25, 10, 66, 15, 92, 47]\n",
            "greater value elements:  [91, 89, 92]\n"
          ],
          "name": "stdout"
        }
      ]
    },
    {
      "cell_type": "markdown",
      "metadata": {
        "id": "1oV7YTVfMHfh"
      },
      "source": [
        "Q9:  A positive integer greater than 1 is said to be **prime** if it has no divisors other than\r\n",
        "1 and itself. A positive integer greater than 1 is **composite** if it is not prime. \r\n",
        "\r\n",
        "Write\r\n",
        "a program that asks the user to enter an integer greater than 1, then __displays all\r\n",
        "of the prime numbers that are less than or equal to the number entered.__ The\r\n",
        "program should work as follows:\r\n",
        "\r\n",
        "* a. Once the user has entered a number, the program should populate a list\r\n",
        "with all of the integers from 2 up through the value entered.\r\n",
        "* b. The program should then use a loop to step through the list. The loop\r\n",
        "should pass each element to a function that displays whether the element\r\n",
        "is a prime number, or a composite number."
      ]
    },
    {
      "cell_type": "code",
      "metadata": {
        "id": "1kcVKZ1tMYSO",
        "colab": {
          "base_uri": "https://localhost:8080/"
        },
        "outputId": "0b1023aa-5ecc-4a1e-ff18-77858164b538"
      },
      "source": [
        "import math\r\n",
        "\r\n",
        "def requestNumber():\r\n",
        "  return int(input('Please enter positive number, greater than one: '))\r\n",
        "\r\n",
        "def isPrime(max):\r\n",
        "  if max > 1:\r\n",
        "    if max % 2 == 0:\r\n",
        "      return 'Not prime'\r\n",
        "      \r\n",
        "    for divisor in range(3,int(math.sqrt(max+1)),2):\r\n",
        "      if max % divisor == 0:\r\n",
        "        return 'Not prime'\r\n",
        "    return 'Prime' \r\n",
        "  else:\r\n",
        "    print('Please enter number LARGER than one.')\r\n",
        "    requestNumber()\r\n",
        "\r\n",
        "x = requestNumber()\r\n",
        "print(isPrime(x))"
      ],
      "execution_count": 39,
      "outputs": [
        {
          "output_type": "stream",
          "text": [
            "Please enter positive number, greater than one: 613\n",
            "Prime\n"
          ],
          "name": "stdout"
        }
      ]
    },
    {
      "cell_type": "markdown",
      "metadata": {
        "id": "Cg-qcgsXUDDw"
      },
      "source": [
        "Q10: Write a program that asks the user to enter a series of single-digit numbers with\r\n",
        "nothing separating them. The program should display the sum of all the single\r\n",
        "digit numbers in the string. For example, if the user enters 2514, the method\r\n",
        "should return 12, which is the sum of 2, 5, 1, and 4"
      ]
    },
    {
      "cell_type": "code",
      "metadata": {
        "id": "NpvNLwHNUDXm",
        "colab": {
          "base_uri": "https://localhost:8080/"
        },
        "outputId": "4ead63fa-bfaf-4392-e3e4-16c2fd3c3a29"
      },
      "source": [
        "def requestDigits():\r\n",
        "  return input('Please enter digits, not seperated by by spaces: ')\r\n",
        "\r\n",
        "def getSum():\r\n",
        "  digits = requestDigits()\r\n",
        "  if (digits).isdigit():\r\n",
        "    sum_ = sum(map(int,digits))\r\n",
        "    print(sum_)\r\n",
        "  else:\r\n",
        "    print('Please enter digits only.')\r\n",
        "    getSum()\r\n",
        "getSum()"
      ],
      "execution_count": null,
      "outputs": [
        {
          "output_type": "stream",
          "text": [
            "Please enter digits, not seperated by by spaces: 613\n",
            "10\n"
          ],
          "name": "stdout"
        }
      ]
    },
    {
      "cell_type": "markdown",
      "metadata": {
        "id": "ed8DyrXiUDyA"
      },
      "source": [
        "Q11: Write a program that lets the user enter a string and displays the character that\r\n",
        "appears most frequently in the string."
      ]
    },
    {
      "cell_type": "code",
      "metadata": {
        "colab": {
          "base_uri": "https://localhost:8080/"
        },
        "id": "2CMdiDnLUD_X",
        "outputId": "24837c72-287b-449f-b8b8-9d3661caa059"
      },
      "source": [
        "user = [char for char in input('Please enter a string of characters: ')] #alt: list()\r\n",
        "char_frequencies = {x:list(user).count(x) for x in user}\r\n",
        "\r\n",
        "print('Highest frequency: ', max(char_frequencies, key = lambda k: char_frequencies[k])) #key=char_frequencies.get"
      ],
      "execution_count": null,
      "outputs": [
        {
          "output_type": "stream",
          "text": [
            "Please enter a string of characters: abbou\n",
            "Highest frequency:  b\n"
          ],
          "name": "stdout"
        }
      ]
    },
    {
      "cell_type": "markdown",
      "metadata": {
        "id": "zxsWtWLRUEKW"
      },
      "source": [
        "Q12: .Write a program that opens a specified text file then displays a list of all the\r\n",
        "unique words found in the file. Hint: Store each word as an element of a set."
      ]
    },
    {
      "cell_type": "code",
      "metadata": {
        "id": "rfjT-x32UEW8"
      },
      "source": [
        "with open('file.txt', 'r') as file:\r\n",
        "  unique_words = set(x for x in file.read())\r\n",
        "print(unique_words)"
      ],
      "execution_count": null,
      "outputs": []
    },
    {
      "cell_type": "markdown",
      "metadata": {
        "id": "qjVeMXDRUEiO"
      },
      "source": [
        "Q13: Write a program that reads the contents of a text file. The program should create\r\n",
        "a dictionary in which the keys are the individual words found in the file and the\r\n",
        "values are the number of times each word appears. For example, if the word\r\n",
        "“the” appears 128 times, the dictionary would contain an element with 'the' as\r\n",
        "the key and 128 as the value. The program should either display the frequency of\r\n",
        "each word or create a second file containing a list of each word and its\r\n",
        "frequency."
      ]
    },
    {
      "cell_type": "code",
      "metadata": {
        "id": "RmmLUba6UEuY"
      },
      "source": [
        "with open('file.txt', 'r') as file:\r\n",
        "  file_content = file.read()\r\n",
        "  word_dict = {x:list(fs).count(x) for x in file_content}\r\n",
        "print(word_dict)"
      ],
      "execution_count": null,
      "outputs": []
    }
  ]
}