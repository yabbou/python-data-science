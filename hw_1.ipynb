{
  "nbformat": 4,
  "nbformat_minor": 0,
  "metadata": {
    "colab": {
      "name": "hw 1.ipynb",
      "provenance": [],
      "collapsed_sections": [],
      "authorship_tag": "ABX9TyOf86s6vpow5lg3V1QGKPBn",
      "include_colab_link": true
    },
    "kernelspec": {
      "name": "python3",
      "display_name": "Python 3"
    }
  },
  "cells": [
    {
      "cell_type": "markdown",
      "metadata": {
        "id": "view-in-github",
        "colab_type": "text"
      },
      "source": [
        "<a href=\"https://colab.research.google.com/github/yabbou/python-data-science/blob/main/hw_1.ipynb\" target=\"_parent\"><img src=\"https://colab.research.google.com/assets/colab-badge.svg\" alt=\"Open In Colab\"/></a>"
      ]
    },
    {
      "cell_type": "markdown",
      "metadata": {
        "id": "zVe6lgEnDRes"
      },
      "source": [
        "#Homework 1\r\n",
        "\r\n",
        "**Question 1**: Use the following data and create an array that stores all earners *over* $100,000.\r\n",
        "```\r\n",
        "employees = {'Alice' : 100000, 'Bob' : 99817, 'Carol' : 122908, 'Frank' : 88123, 'Eve' : 93121}\r\n",
        "```"
      ]
    },
    {
      "cell_type": "code",
      "metadata": {
        "colab": {
          "base_uri": "https://localhost:8080/"
        },
        "id": "L7KZ7T02DQUz",
        "outputId": "7e732c18-80aa-4cbf-d520-1a330f54552d"
      },
      "source": [
        "employees = {'Alice' : 100_000, 'Bob' : 99_817, 'Carol' : 122_908, 'Frank' : 88_123, 'Eve' : 93_121}\r\n",
        "high_earners = []\r\n",
        "\r\n",
        "HUNDRED_THOUSAND = 100_000\r\n",
        "for em in employees:\r\n",
        "  if(employees[em] > HUNDRED_THOUSAND):\r\n",
        "    high_earners.append(em)\r\n",
        "\r\n",
        "print(high_earners)"
      ],
      "execution_count": null,
      "outputs": [
        {
          "output_type": "stream",
          "text": [
            "['Carol']\n"
          ],
          "name": "stdout"
        }
      ]
    },
    {
      "cell_type": "markdown",
      "metadata": {
        "id": "b-JsyDvlHNhF"
      },
      "source": [
        "**Question 2**: \r\n",
        "Create a list of all the even squares from 1 to 1,000, and sort it so it is largest to smallest."
      ]
    },
    {
      "cell_type": "code",
      "metadata": {
        "colab": {
          "base_uri": "https://localhost:8080/"
        },
        "id": "C1UttQxTHVgk",
        "outputId": "1654a320-cdaf-48a7-c191-b31bac1ef0e9"
      },
      "source": [
        "import math\r\n",
        "\r\n",
        "even_squares = []\r\n",
        "MAX = 1_000\r\n",
        "\r\n",
        "for i in range(MAX + 1, 1, -1): \r\n",
        "  if(math.sqrt(i) % 1 == 0 and i % 2 == 0):\r\n",
        "    even_squares.append(i)\r\n",
        "\r\n",
        "print(even_squares) # alternative: even_squares.sort(reverse=True)"
      ],
      "execution_count": null,
      "outputs": [
        {
          "output_type": "stream",
          "text": [
            "[900, 784, 676, 576, 484, 400, 324, 256, 196, 144, 100, 64, 36, 16, 4]\n"
          ],
          "name": "stdout"
        }
      ]
    },
    {
      "cell_type": "markdown",
      "metadata": {
        "id": "pJ3u4FUxLMmH"
      },
      "source": [
        "**Question 3**: Find all words in the text that are greater than 6 letters and store in a list: \r\n",
        "\r\n",
        "> Call me Ishmael. Some years ago - never mind how long precisely - having little or no\r\n",
        "money in my purse, and nothing particular to interest me on shore, I thought I\r\n",
        "would sail about a little and see the watery part of the world. It is a way I have of\r\n",
        "driving off the spleen, and regulating the circulation. - Moby Dick'''\r\n",
        "\r\n"
      ]
    },
    {
      "cell_type": "code",
      "metadata": {
        "colab": {
          "base_uri": "https://localhost:8080/"
        },
        "id": "1ZHVB3UiLMPs",
        "outputId": "e3390526-698b-4f7e-92e7-38c92c4fb45b"
      },
      "source": [
        "LONG_WORD_LENGTH = 6\r\n",
        "story = \"Call me Ishmael. Some years ago - never mind how long precisely - having little or no money in my purse, and nothing particular to interest me on shore, I thought I would sail about a little and see the watery part of the world. It is a way I have of driving off the spleen, and regulating the circulation. - Moby Dick''' \"\r\n",
        "story_list = story.split(' ')\r\n",
        "long_word_list = []\r\n",
        "\r\n",
        "for word in story_list:\r\n",
        "  if len(word) > LONG_WORD_LENGTH:\r\n",
        "    long_word_list.append(word)\r\n",
        "\r\n",
        "print(long_word_list) #without regex to remove punctuation from letters\r\n"
      ],
      "execution_count": null,
      "outputs": [
        {
          "output_type": "stream",
          "text": [
            "['Ishmael.', 'precisely', 'nothing', 'particular', 'interest', 'thought', 'driving', 'spleen,', 'regulating', 'circulation.', \"Dick'''\"]\n"
          ],
          "name": "stdout"
        }
      ]
    },
    {
      "cell_type": "markdown",
      "metadata": {
        "id": "IILZMu-wLlf7"
      },
      "source": [
        "**Question 4**: Create a new data set that includes every other data point. \r\n",
        "\r\n",
        "```\r\n",
        "price = [\r\n",
        "[9.9, 9.8, 9.8, 9.4, 9.5, 9.7], \r\n",
        "[9.5, 9.4, 9.4, 9.3, 9.2, 9.1], \r\n",
        "[8.4, 7.9, 7.9, 8.1, 8.0, 8.0], \r\n",
        "[7.1, 5.9, 4.8, 4.8, 4.7, 3.9]\r\n",
        "]\r\n",
        "```"
      ]
    },
    {
      "cell_type": "code",
      "metadata": {
        "colab": {
          "base_uri": "https://localhost:8080/"
        },
        "id": "Q6BWkhcX7gkr",
        "outputId": "4df4b34f-9d55-4982-8d00-2d6225ff04b5"
      },
      "source": [
        "prices = [\r\n",
        "[9.9, 9.8, 9.8, 9.4, 9.5, 9.7], \r\n",
        "[9.5, 9.4, 9.4, 9.3, 9.2, 9.1], \r\n",
        "[8.4, 7.9, 7.9, 8.1, 8.0, 8.0], \r\n",
        "[7.1, 5.9, 4.8, 4.8, 4.7, 3.9]\r\n",
        "]\r\n",
        "prices_odd = []\r\n",
        "\r\n",
        "rows = 4\r\n",
        "cols = 6\r\n",
        "for r in range(0, rows):\r\n",
        "  for c in range(0, cols, 2):\r\n",
        "    prices_odd.append(prices[r][c])\r\n",
        "\r\n",
        "print(prices_odd)"
      ],
      "execution_count": null,
      "outputs": [
        {
          "output_type": "stream",
          "text": [
            "[9.9, 9.8, 9.5, 9.5, 9.4, 9.2, 8.4, 7.9, 8.0, 7.1, 4.8, 4.7]\n"
          ],
          "name": "stdout"
        }
      ]
    },
    {
      "cell_type": "markdown",
      "metadata": {
        "id": "UaPJ772K_4oB"
      },
      "source": [
        "**Question 5**: Take the data and remove the first and last two values. Create ten copies of the data stored as one list. Use plt.plot to plot it. \r\n",
        "\r\n",
        "```\r\n",
        "cardiac_cycle = [62, 60, 62, 64, 68, 77, 80, 76, 71, 66, 61, 60, 62]\r\n",
        "```"
      ]
    },
    {
      "cell_type": "code",
      "metadata": {
        "colab": {
          "base_uri": "https://localhost:8080/",
          "height": 265
        },
        "id": "-u8ggiMGAVIC",
        "outputId": "568351ad-f195-44c5-adf5-fcc4678f5216"
      },
      "source": [
        "import matplotlib.pyplot as plt\r\n",
        "cardiac_cycle = [62, 60, 62, 64, 68, 77, 80, 76, 71, 66, 61, 60, 62]\r\n",
        "col = cardiac_cycle[2:-2]\r\n",
        "\r\n",
        "COLS = 10\r\n",
        "cardiac_cycles = [None] * COLS\r\n",
        "for c in range(0, COLS):\r\n",
        "  cardiac_cycles[c] = col\r\n",
        "\r\n",
        "plt.plot(cardiac_cycles)\r\n",
        "plt.show()"
      ],
      "execution_count": null,
      "outputs": [
        {
          "output_type": "display_data",
          "data": {
            "image/png": "[encoded data removed]",
            "text/plain": [
              "<Figure size 432x288 with 1 Axes>"
            ]
          },
          "metadata": {
            "tags": [],
            "needs_background": "light"
          }
        }
      ]
    },
    {
      "cell_type": "markdown",
      "metadata": {
        "id": "XE2lnJYpDh6b"
      },
      "source": [
        "**Question 6**: Create a list of any company who pays its employees less than $9 an hour.\r\n",
        "\r\n",
        "```\r\n",
        "companies = { \r\n",
        "'CoolCompany' : {'Alice' : 33, 'Bob' : 28, 'Frank' : 29},\r\n",
        "'CheapCompany' : {'Ann' : 4, 'Lee' : 9, 'Chrisi' : 7}, \r\n",
        "'SosoCompany' : {'Esther' : 38, 'Cole' : 8, 'Paris' : 18}\r\n",
        "}\r\n",
        "```"
      ]
    },
    {
      "cell_type": "code",
      "metadata": {
        "colab": {
          "base_uri": "https://localhost:8080/"
        },
        "id": "XDSBovFrD1cQ",
        "outputId": "6a5a4c09-6953-4283-96f4-e597058ac5b1"
      },
      "source": [
        "companies = { \r\n",
        "'CoolCompany' : {'Alice' : 33, 'Bob' : 28, 'Frank' : 29},\r\n",
        "'CheapCompany' : {'Ann' : 4, 'Lee' : 9, 'Chrisi' : 7}, \r\n",
        "'SosoCompany' : {'Esther' : 38, 'Cole' : 8, 'Paris' : 18}\r\n",
        "}\r\n",
        "UNDERPAID_WAGE = 9\r\n",
        "underpaying_companies = []\r\n",
        "\r\n",
        "for company in companies:\r\n",
        "  for em in companies[company]:\r\n",
        "    wage = companies[company][em]\r\n",
        "    if wage < UNDERPAID_WAGE:\r\n",
        "      underpaying_companies.append(company)\r\n",
        "      break\r\n",
        "\r\n",
        "print(underpaying_companies)"
      ],
      "execution_count": null,
      "outputs": [
        {
          "output_type": "stream",
          "text": [
            "['CheapCompany', 'SosoCompany']\n"
          ],
          "name": "stdout"
        }
      ]
    },
    {
      "cell_type": "markdown",
      "metadata": {
        "id": "AXyKuiLvIcj0"
      },
      "source": [
        "Question 7: zip and unzip the following two lists: \r\n",
        "\r\n",
        "```lst_1 = [1, 2, 3] and lst_2 = [4, 5, 6]```"
      ]
    },
    {
      "cell_type": "code",
      "metadata": {
        "colab": {
          "base_uri": "https://localhost:8080/"
        },
        "id": "C7Df3IjTqvzt",
        "outputId": "24e61ffc-f347-4c4d-a9c9-541c33891f63"
      },
      "source": [
        "lst_1 = [1, 2, 3]\r\n",
        "lst_2 = [4, 5, 6]\r\n",
        "\r\n",
        "zipped_list = zip(lst_1, lst_2)\r\n",
        "print(zipped_list)\r\n",
        "unzipped_list = list(zip(*zipped_list))\r\n",
        "print(unzipped_list)"
      ],
      "execution_count": null,
      "outputs": [
        {
          "output_type": "stream",
          "text": [
            "<zip object at 0x7fc3af490048>\n",
            "[(1, 2, 3), (4, 5, 6)]\n"
          ],
          "name": "stdout"
        }
      ]
    },
    {
      "cell_type": "markdown",
      "metadata": {
        "id": "XREX3w9Pseq6"
      },
      "source": [
        "Question 8: Given the matrices a and b. Add, subtract, multiply, and divide **a by b**. Find the max, min and average as well. \r\n",
        "\r\n",
        "```\r\n",
        "a = np.array([[1, 0, 0], [1, 1, 1], [2, 0, 0]]) \r\n",
        "b = np.array([[1, 1, 1], [1, 1, 2], [1, 1, 2]])\r\n",
        "```"
      ]
    },
    {
      "cell_type": "code",
      "metadata": {
        "colab": {
          "base_uri": "https://localhost:8080/"
        },
        "id": "B-wiFU45s2Zh",
        "outputId": "9c242359-f51e-448f-9aba-02d5a2e7645d"
      },
      "source": [
        "import numpy as np\r\n",
        "a = np.array([[1, 0, 0], [1, 1, 1], [2, 0, 0]]) \r\n",
        "b = np.array([[1, 1, 1], [1, 1, 2], [1, 1, 2]])\r\n",
        "\r\n",
        "sum = np.add(a,b)\r\n",
        "differnce = np.subtract(a,b)\r\n",
        "product = np.multiply(a,b)\r\n",
        "quotient = np.divide(a,b)\r\n",
        "\r\n",
        "max = np.maximum(a,b)\r\n",
        "min = np.minimum(a,b) \r\n",
        "avg = np.average(np.array([a,b]),axis=0)\r\n",
        "\r\n",
        "print(\"sum:\\n\", sum)\r\n",
        "print(\"\\ndiffernce:\\n\", differnce)\r\n",
        "print(\"\\nproduct:\\n\", product)\r\n",
        "print(\"\\nquotient:\\n\", quotient)\r\n",
        "\r\n",
        "print(\"\\nmax:\\n\", max)\r\n",
        "print(\"\\nmin:\\n\", min)\r\n",
        "print(\"\\navg:\\n\", avg)"
      ],
      "execution_count": null,
      "outputs": [
        {
          "output_type": "stream",
          "text": [
            "sum:\n",
            " [[2 1 1]\n",
            " [2 2 3]\n",
            " [3 1 2]]\n",
            "\n",
            "differnce:\n",
            " [[ 0 -1 -1]\n",
            " [ 0  0 -1]\n",
            " [ 1 -1 -2]]\n",
            "\n",
            "product:\n",
            " [[1 0 0]\n",
            " [1 1 2]\n",
            " [2 0 0]]\n",
            "\n",
            "quotient:\n",
            " [[1.  0.  0. ]\n",
            " [1.  1.  0.5]\n",
            " [2.  0.  0. ]]\n",
            "\n",
            "max:\n",
            " [[1 1 1]\n",
            " [1 1 2]\n",
            " [2 1 2]]\n",
            "\n",
            "min:\n",
            " [[1 0 0]\n",
            " [1 1 1]\n",
            " [1 0 0]]\n",
            "\n",
            "avg:\n",
            " [[1.  0.5 0.5]\n",
            " [1.  1.  1.5]\n",
            " [1.5 0.5 1. ]]\n"
          ],
          "name": "stdout"
        }
      ]
    },
    {
      "cell_type": "markdown",
      "metadata": {
        "id": "F5EYKGP_xSaw"
      },
      "source": [
        "Question 9. Find the max salary after taxes are taken out. Here alice, bob, and tim have salaries recorded for the years 2019, 2020, and 2021.\r\n",
        "```\r\n",
        "a. alice = [99, 101, 103]\r\n",
        "b. bob = [110, 108, 105]\r\n",
        "c. tim = [90, 88, 85]\r\n",
        "d. salaries = np.array([alice, bob, tim])\r\n",
        "e. taxation = np.array([[0.2, 0.25, 0.22], [0.4, 0.5, 0.5], [0.1, 0.2, 0.1]])\r\n",
        "```"
      ]
    },
    {
      "cell_type": "code",
      "metadata": {
        "colab": {
          "base_uri": "https://localhost:8080/"
        },
        "id": "w-mtNPRxzPX9",
        "outputId": "72eda791-a178-4f4c-9fe6-79fb90775d1b"
      },
      "source": [
        "import numpy as np\r\n",
        "\r\n",
        "alice = [99, 101, 103]\r\n",
        "bob = [110, 108, 105]\r\n",
        "tim = [90, 88, 85]\r\n",
        "salaries = np.array([alice, bob, tim])\r\n",
        "taxation = np.array([[0.2, 0.25, 0.22], [0.4, 0.5, 0.5], [0.1, 0.2, 0.1]])\r\n",
        "\r\n",
        "tax_value = np.multiply(salaries, taxation)\r\n",
        "salaries_after_tax = np.subtract(salaries, tax_value)\r\n",
        "\r\n",
        "np.amax(salaries_after_tax) #Tim's 2019 salary"
      ],
      "execution_count": null,
      "outputs": [
        {
          "output_type": "execute_result",
          "data": {
            "text/plain": [
              "81.0"
            ]
          },
          "metadata": {
            "tags": []
          },
          "execution_count": 13
        }
      ]
    },
    {
      "cell_type": "markdown",
      "metadata": {
        "id": "_CsGWKdLizPT"
      },
      "source": [
        "Question 10. Increase the salary for _data scientists_ **every other year**\r\n"
      ]
    },
    {
      "cell_type": "code",
      "metadata": {
        "colab": {
          "base_uri": "https://localhost:8080/"
        },
        "id": "sXJk4WXYitod",
        "outputId": "10d6fed9-0b4c-41a9-c703-b48eda028e87"
      },
      "source": [
        "# Data: yearly salary in ($1000) [2019, 2020, 2021]\r\n",
        "dataScientist = [130, 132, 137]\r\n",
        "productManager = [127, 140, 145]\r\n",
        "designer = [118, 118, 127]\r\n",
        "softwareEngineer = [129, 131, 137]\r\n",
        "employees = np.array([dataScientist, productManager, designer, softwareEngineer])\r\n",
        "\r\n",
        "INCREASE_OF_TWENTY_PERCENT = 1.20\r\n",
        "data_scientist_index = 0\r\n",
        "\r\n",
        "for job_index in range(0, len(employees)):\r\n",
        "  for year_index in range(0, len(employees[job_index]), 2):\r\n",
        "    if job_index == data_scientist_index:\r\n",
        "      employees[job_index][year_index] *= INCREASE_OF_TWENTY_PERCENT\r\n",
        "\r\n",
        "print(employees)"
      ],
      "execution_count": null,
      "outputs": [
        {
          "output_type": "stream",
          "text": [
            "[[156 132 164]\n",
            " [127 140 145]\n",
            " [118 118 127]\n",
            " [129 131 137]]\n"
          ],
          "name": "stdout"
        }
      ]
    },
    {
      "cell_type": "markdown",
      "metadata": {
        "id": "eYuCMdFXmTUQ"
      },
      "source": [
        "Question 11: Find all cities with above-average pollution peaks from a set of data."
      ]
    },
    {
      "cell_type": "code",
      "metadata": {
        "colab": {
          "base_uri": "https://localhost:8080/"
        },
        "id": "KjOH0GjVmdCn",
        "outputId": "1e62a79b-bff6-44cf-df93-65ffbfcb5c55"
      },
      "source": [
        "# Data: air quality index AQI data (row = city)\r\n",
        "AQI_data = np.array([[ 42, 40, 41, 43, 44, 43 ], \r\n",
        "                     [ 30, 31, 29, 29, 29, 30 ], \r\n",
        "                     [ 8, 13, 31, 11, 11, 9 ], \r\n",
        "                     [ 11, 11, 12, 13, 11, 12 ]])\r\n",
        "cities = np.array([\"Hong Kong\", \"New York\", \"Berlin\", \"Montreal\"])\r\n",
        "\r\n",
        "average_annual_pollution = np.mean(AQI_data)\r\n",
        "index = 0\r\n",
        "polluted_cities = []\r\n",
        "\r\n",
        "for city in AQI_data: #alt: constructing dict\r\n",
        "  if any(year >= average_annual_pollution for year in city): \r\n",
        "    polluted_cities.append(cities[index])\r\n",
        "  index+=1\r\n",
        "\r\n",
        "polluted_cities"
      ],
      "execution_count": null,
      "outputs": [
        {
          "output_type": "execute_result",
          "data": {
            "text/plain": [
              "['Hong Kong', 'New York', 'Berlin']"
            ]
          },
          "metadata": {
            "tags": []
          },
          "execution_count": 42
        }
      ]
    },
    {
      "cell_type": "markdown",
      "metadata": {
        "id": "Kz2SCjtEJI4Z"
      },
      "source": [
        "Question 12: Given an array of temperature values, replace every seventh temperature value\r\n",
        "with the average of the last seven days (including the seventh day’s temperature\r\n",
        "value).\r\n",
        "```\r\n",
        "# Sensor data (Mo, Tu, We, Th, Fr, Sa, Su)\r\n",
        "tmp = np.array([1.1, 2.1, 3, 4.6, 3.8, 4.1, 4, 5, 3.3, 3, 4.6, 3.6, 4.2, 6, 6, 5.1, 5.2, 5.6, 4, 5, 5])\r\n",
        "```"
      ]
    },
    {
      "cell_type": "code",
      "metadata": {
        "colab": {
          "base_uri": "https://localhost:8080/"
        },
        "id": "wPa3T8XhpoNt",
        "outputId": "9dd1c88e-8579-44f3-e0e3-43e9e5e326f1"
      },
      "source": [
        "import numpy as np\r\n",
        "temperatures = np.array([1.1, 2.1, 3, 4.6, 3.8, 4.1, 4, 5, 3.3, 3, 4.6, 3.6, 4.2, 6, 6, 5.1, 5.2, 5.6, 4, 5, 5])\r\n",
        "SEVEN = 7\r\n",
        "cycle = 0 \r\n",
        "\r\n",
        "for seventh_tem in range(SEVEN-1,len(temperatures), SEVEN):\r\n",
        "  start_index = cycle*SEVEN\r\n",
        "  cycle+=1\r\n",
        "  end_index = min(cycle*SEVEN, len(temperatures)-1)\r\n",
        "\r\n",
        "  scoped_tem = temperatures[start_index : end_index]\r\n",
        "  temperatures[seventh_tem] = np.average(scoped_tem)\r\n",
        "\r\n",
        "temperatures"
      ],
      "execution_count": null,
      "outputs": [
        {
          "output_type": "execute_result",
          "data": {
            "text/plain": [
              "array([1.1       , 2.1       , 3.        , 4.6       , 3.8       ,\n",
              "       4.1       , 3.24285714, 5.        , 3.3       , 3.        ,\n",
              "       4.6       , 3.6       , 4.2       , 4.24285714, 6.        ,\n",
              "       5.1       , 5.2       , 5.6       , 4.        , 5.        ,\n",
              "       5.15      ])"
            ]
          },
          "metadata": {
            "tags": []
          },
          "execution_count": 23
        }
      ]
    },
    {
      "cell_type": "markdown",
      "metadata": {
        "id": "AhPJGEEv3ezk"
      },
      "source": [
        "Question 13: Create a function and/or lambda expression that checks if two words are anagrams, such as ‘elvis’ and ‘lives’.\r\n"
      ]
    },
    {
      "cell_type": "code",
      "metadata": {
        "colab": {
          "base_uri": "https://localhost:8080/"
        },
        "id": "n6kypGZI3wo2",
        "outputId": "5596ab49-3023-465d-fd1e-7bffc823abdd"
      },
      "source": [
        "def isAnagram(word1, word2):\r\n",
        "  for letter in word1:\r\n",
        "    if not letter in word2:\r\n",
        "      return False\r\n",
        "  return True\r\n",
        "\r\n",
        "print(isAnagram('1234','4321'))\r\n",
        "print(isAnagram('1254','4321'))"
      ],
      "execution_count": null,
      "outputs": [
        {
          "output_type": "stream",
          "text": [
            "True\n",
            "False\n"
          ],
          "name": "stdout"
        }
      ]
    },
    {
      "cell_type": "markdown",
      "metadata": {
        "id": "3rk2vewgQcgL"
      },
      "source": [
        "Question 14: Create a function and/or lambda expression that checks if a phrase is a palindrome"
      ]
    },
    {
      "cell_type": "code",
      "metadata": {
        "colab": {
          "base_uri": "https://localhost:8080/"
        },
        "id": "aKgu7A6aIYQY",
        "outputId": "221867fb-da67-4157-df59-4de611a3bbc6"
      },
      "source": [
        "def isPalindrome(word):\r\n",
        "  for i in range(int(len(word)/2)):\r\n",
        "    if word[i] != word[(len(word)-1)-i]:\r\n",
        "      return False\r\n",
        "  return True\r\n",
        "\r\n",
        "print(isPalindrome('abbab'))\r\n",
        "print(isPalindrome('abba'))"
      ],
      "execution_count": null,
      "outputs": [
        {
          "output_type": "stream",
          "text": [
            "False\n",
            "True\n"
          ],
          "name": "stdout"
        }
      ]
    },
    {
      "cell_type": "markdown",
      "metadata": {
        "id": "ZmD3wvPDJq9a"
      },
      "source": [
        "Question 15: Create a recursive factorial lambda"
      ]
    },
    {
      "cell_type": "code",
      "metadata": {
        "id": "26AZ8jWRJqeX",
        "colab": {
          "base_uri": "https://localhost:8080/"
        },
        "outputId": "5fa2989d-a946-461d-f8c3-5c35e1bf3115"
      },
      "source": [
        "recursive_factorial = lambda x: 1 if x == 1 else x*recursive_factorial(x-1)\r\n",
        "print(recursive_factorial(5))"
      ],
      "execution_count": null,
      "outputs": [
        {
          "output_type": "stream",
          "text": [
            "120\n"
          ],
          "name": "stdout"
        }
      ]
    }
  ]
}